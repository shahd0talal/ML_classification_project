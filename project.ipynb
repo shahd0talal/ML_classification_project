{
 "cells": [
  {
   "cell_type": "markdown",
   "id": "4bba0278-2750-4bee-a090-c42ccac0c498",
   "metadata": {},
   "source": [
    "## **Data descripcion <span style=\"color:orange ;\">(Real_World Data):**\n",
    "\n",
    "\n",
    "`MANGO1-4 TO 15-11.csv` is about an online perfume store sales ,the data contains general information for each order in the past six monthes (4-1-2024 ~ 11-15-2024) like the Delivering Area ,order price,order Date,etc.\n"
   ]
  },
  {
   "cell_type": "markdown",
   "id": "0146210c-da0e-4e02-9ab5-e47bcfefc531",
   "metadata": {},
   "source": [
    "\n",
    "---"
   ]
  },
  {
   "cell_type": "markdown",
   "id": "0ab04166-7607-4b66-9ebf-37dad3106030",
   "metadata": {},
   "source": [
    "## **Data Preprocessing**"
   ]
  },
  {
   "cell_type": "markdown",
   "id": "ad31df21-47ca-42a8-b53e-b145111cbb79",
   "metadata": {},
   "source": [
    "**1. Preprocess the dataset (handle missing values, encode categorical \n",
    "variables).**\n"
   ]
  },
  {
   "cell_type": "code",
   "execution_count": 1,
   "id": "6335ce97-a09e-4d7c-9328-7877a9e36e59",
   "metadata": {
    "editable": true,
    "slideshow": {
     "slide_type": ""
    },
    "tags": []
   },
   "outputs": [],
   "source": [
    "import pandas as pd\n",
    "import numpy as np\n",
    "import re\n",
    "import matplotlib.pyplot as plt\n",
    "import seaborn as sns\n",
    "df=pd.read_csv(r\"C:\\Users\\Shahed\\OneDrive - Hashemite University\\ML_project\\MANGO1-4 TO 15-11.csv\")"
   ]
  },
  {
   "cell_type": "code",
   "execution_count": 2,
   "id": "8bfc77d8-dba9-4a03-87c0-d02cecb4cfe9",
   "metadata": {},
   "outputs": [
    {
     "data": {
      "text/html": [
       "<div>\n",
       "<style scoped>\n",
       "    .dataframe tbody tr th:only-of-type {\n",
       "        vertical-align: middle;\n",
       "    }\n",
       "\n",
       "    .dataframe tbody tr th {\n",
       "        vertical-align: top;\n",
       "    }\n",
       "\n",
       "    .dataframe thead th {\n",
       "        text-align: right;\n",
       "    }\n",
       "</style>\n",
       "<table border=\"1\" class=\"dataframe\">\n",
       "  <thead>\n",
       "    <tr style=\"text-align: right;\">\n",
       "      <th></th>\n",
       "      <th>Reference number</th>\n",
       "      <th>AWB</th>\n",
       "      <th>Company</th>\n",
       "      <th>Store</th>\n",
       "      <th>Recipient Name</th>\n",
       "      <th>Company Payment Type</th>\n",
       "      <th>Delivering City</th>\n",
       "      <th>Delivering Area</th>\n",
       "      <th>Shipment Details</th>\n",
       "      <th>Zones</th>\n",
       "      <th>Cash on Delivery</th>\n",
       "      <th>Returned With Fees</th>\n",
       "      <th>Exp Delivery Fees</th>\n",
       "      <th>Shipment Status</th>\n",
       "      <th>Creation Date</th>\n",
       "      <th>Distribution Center Date</th>\n",
       "      <th>AssignTo Courier Date</th>\n",
       "      <th>Acctual Delivering Date</th>\n",
       "      <th>COD Collection Date</th>\n",
       "      <th>Company Settlement Date</th>\n",
       "    </tr>\n",
       "  </thead>\n",
       "  <tbody>\n",
       "    <tr>\n",
       "      <th>0</th>\n",
       "      <td>R26313t</td>\n",
       "      <td>24030458001389</td>\n",
       "      <td>mango perfume</td>\n",
       "      <td>mango perfume</td>\n",
       "      <td>NaN</td>\n",
       "      <td>Pay After Delivery</td>\n",
       "      <td>Amman</td>\n",
       "      <td>ابو علندا</td>\n",
       "      <td>NaN</td>\n",
       "      <td>C 2</td>\n",
       "      <td>0.0</td>\n",
       "      <td>NaN</td>\n",
       "      <td>1.50</td>\n",
       "      <td>Item Returned To Company Completed</td>\n",
       "      <td>4/1/2024 2:29:30 AM</td>\n",
       "      <td>4/1/2024 4:07:13 AM</td>\n",
       "      <td>NaN</td>\n",
       "      <td>NaN</td>\n",
       "      <td>NaN</td>\n",
       "      <td>NaN</td>\n",
       "    </tr>\n",
       "    <tr>\n",
       "      <th>1</th>\n",
       "      <td>R25881</td>\n",
       "      <td>24030458001390</td>\n",
       "      <td>mango perfume</td>\n",
       "      <td>mango perfume</td>\n",
       "      <td>NaN</td>\n",
       "      <td>Pay After Delivery</td>\n",
       "      <td>Amman</td>\n",
       "      <td>ابو علندا</td>\n",
       "      <td>NaN</td>\n",
       "      <td>C 2</td>\n",
       "      <td>0.0</td>\n",
       "      <td>NaN</td>\n",
       "      <td>1.50</td>\n",
       "      <td>Item Returned To Company Completed</td>\n",
       "      <td>4/1/2024 2:30:31 AM</td>\n",
       "      <td>4/1/2024 4:07:13 AM</td>\n",
       "      <td>NaN</td>\n",
       "      <td>NaN</td>\n",
       "      <td>NaN</td>\n",
       "      <td>NaN</td>\n",
       "    </tr>\n",
       "    <tr>\n",
       "      <th>2</th>\n",
       "      <td>R0799667914</td>\n",
       "      <td>24040458000001</td>\n",
       "      <td>mango perfume</td>\n",
       "      <td>mango perfume</td>\n",
       "      <td>NaN</td>\n",
       "      <td>Pay After Delivery</td>\n",
       "      <td>Amman</td>\n",
       "      <td>ابو علندا</td>\n",
       "      <td>NaN</td>\n",
       "      <td>C 2</td>\n",
       "      <td>0.0</td>\n",
       "      <td>NaN</td>\n",
       "      <td>1.50</td>\n",
       "      <td>Item Returned To Company Completed</td>\n",
       "      <td>4/1/2024 4:25:43 AM</td>\n",
       "      <td>4/1/2024 4:26:33 AM</td>\n",
       "      <td>NaN</td>\n",
       "      <td>NaN</td>\n",
       "      <td>NaN</td>\n",
       "      <td>NaN</td>\n",
       "    </tr>\n",
       "    <tr>\n",
       "      <th>3</th>\n",
       "      <td>3031F</td>\n",
       "      <td>24040458000002</td>\n",
       "      <td>mango perfume</td>\n",
       "      <td>mango perfume</td>\n",
       "      <td>.</td>\n",
       "      <td>Pay After Delivery</td>\n",
       "      <td>Irbid</td>\n",
       "      <td>بيت راس</td>\n",
       "      <td>بلاك افغانو١٠٠/توم فورد امير ليذر١٠٠/ديور هوم ...</td>\n",
       "      <td>Q 6</td>\n",
       "      <td>40.0</td>\n",
       "      <td>NaN</td>\n",
       "      <td>1.75</td>\n",
       "      <td>Item Returned To Company Completed</td>\n",
       "      <td>4/1/2024 4:53:53 AM</td>\n",
       "      <td>4/1/2024 7:28:21 AM</td>\n",
       "      <td>4/1/2024 9:54:34 AM</td>\n",
       "      <td>NaN</td>\n",
       "      <td>NaN</td>\n",
       "      <td>NaN</td>\n",
       "    </tr>\n",
       "    <tr>\n",
       "      <th>4</th>\n",
       "      <td>3032F</td>\n",
       "      <td>24040458000003</td>\n",
       "      <td>mango perfume</td>\n",
       "      <td>mango perfume</td>\n",
       "      <td>.</td>\n",
       "      <td>Pay After Delivery</td>\n",
       "      <td>Amman</td>\n",
       "      <td>اللبن</td>\n",
       "      <td>جنتل مان جفنشي ١٠٠</td>\n",
       "      <td>D 1</td>\n",
       "      <td>17.0</td>\n",
       "      <td>NaN</td>\n",
       "      <td>1.75</td>\n",
       "      <td>Cod Collected</td>\n",
       "      <td>4/1/2024 4:53:53 AM</td>\n",
       "      <td>4/1/2024 7:31:16 AM</td>\n",
       "      <td>4/2/2024 3:22:55 PM</td>\n",
       "      <td>4/2/2024 3:49:40 PM</td>\n",
       "      <td>4/3/2024 12:59:46 AM</td>\n",
       "      <td>4/3/2024 11:59:34 AM</td>\n",
       "    </tr>\n",
       "  </tbody>\n",
       "</table>\n",
       "</div>"
      ],
      "text/plain": [
       "  Reference number             AWB        Company          Store  \\\n",
       "0          R26313t  24030458001389  mango perfume  mango perfume   \n",
       "1           R25881  24030458001390  mango perfume  mango perfume   \n",
       "2      R0799667914  24040458000001  mango perfume  mango perfume   \n",
       "3            3031F  24040458000002  mango perfume  mango perfume   \n",
       "4            3032F  24040458000003  mango perfume  mango perfume   \n",
       "\n",
       "  Recipient Name Company Payment Type Delivering City Delivering Area  \\\n",
       "0            NaN   Pay After Delivery           Amman       ابو علندا   \n",
       "1            NaN   Pay After Delivery           Amman       ابو علندا   \n",
       "2            NaN   Pay After Delivery           Amman       ابو علندا   \n",
       "3              .   Pay After Delivery           Irbid         بيت راس   \n",
       "4              .   Pay After Delivery           Amman           اللبن   \n",
       "\n",
       "                                    Shipment Details Zones  Cash on Delivery  \\\n",
       "0                                                NaN   C 2               0.0   \n",
       "1                                                NaN   C 2               0.0   \n",
       "2                                                NaN   C 2               0.0   \n",
       "3  بلاك افغانو١٠٠/توم فورد امير ليذر١٠٠/ديور هوم ...   Q 6              40.0   \n",
       "4                                 جنتل مان جفنشي ١٠٠   D 1              17.0   \n",
       "\n",
       "   Returned With Fees  Exp Delivery Fees                     Shipment Status  \\\n",
       "0                 NaN               1.50  Item Returned To Company Completed   \n",
       "1                 NaN               1.50  Item Returned To Company Completed   \n",
       "2                 NaN               1.50  Item Returned To Company Completed   \n",
       "3                 NaN               1.75  Item Returned To Company Completed   \n",
       "4                 NaN               1.75                       Cod Collected   \n",
       "\n",
       "         Creation Date Distribution Center Date AssignTo Courier Date  \\\n",
       "0  4/1/2024 2:29:30 AM      4/1/2024 4:07:13 AM                   NaN   \n",
       "1  4/1/2024 2:30:31 AM      4/1/2024 4:07:13 AM                   NaN   \n",
       "2  4/1/2024 4:25:43 AM      4/1/2024 4:26:33 AM                   NaN   \n",
       "3  4/1/2024 4:53:53 AM      4/1/2024 7:28:21 AM   4/1/2024 9:54:34 AM   \n",
       "4  4/1/2024 4:53:53 AM      4/1/2024 7:31:16 AM   4/2/2024 3:22:55 PM   \n",
       "\n",
       "  Acctual Delivering Date   COD Collection Date Company Settlement Date  \n",
       "0                     NaN                   NaN                     NaN  \n",
       "1                     NaN                   NaN                     NaN  \n",
       "2                     NaN                   NaN                     NaN  \n",
       "3                     NaN                   NaN                     NaN  \n",
       "4     4/2/2024 3:49:40 PM  4/3/2024 12:59:46 AM    4/3/2024 11:59:34 AM  "
      ]
     },
     "execution_count": 2,
     "metadata": {},
     "output_type": "execute_result"
    }
   ],
   "source": [
    "df.head()"
   ]
  },
  {
   "cell_type": "code",
   "execution_count": 3,
   "id": "b8c57662-eb93-4090-b39e-ca286d687770",
   "metadata": {},
   "outputs": [
    {
     "name": "stdout",
     "output_type": "stream",
     "text": [
      "<class 'pandas.core.frame.DataFrame'>\n",
      "RangeIndex: 3558 entries, 0 to 3557\n",
      "Data columns (total 20 columns):\n",
      " #   Column                    Non-Null Count  Dtype  \n",
      "---  ------                    --------------  -----  \n",
      " 0   Reference number          3558 non-null   object \n",
      " 1   AWB                       3558 non-null   int64  \n",
      " 2   Company                   3557 non-null   object \n",
      " 3   Store                     3557 non-null   object \n",
      " 4   Recipient Name            3111 non-null   object \n",
      " 5   Company Payment Type      3557 non-null   object \n",
      " 6   Delivering City           3557 non-null   object \n",
      " 7   Delivering Area           3557 non-null   object \n",
      " 8   Shipment Details          2838 non-null   object \n",
      " 9   Zones                     3257 non-null   object \n",
      " 10  Cash on Delivery          3557 non-null   float64\n",
      " 11  Returned With Fees        10 non-null     float64\n",
      " 12  Exp Delivery Fees         3547 non-null   float64\n",
      " 13  Shipment Status           3557 non-null   object \n",
      " 14  Creation Date             3557 non-null   object \n",
      " 15  Distribution Center Date  3557 non-null   object \n",
      " 16  AssignTo Courier Date     3481 non-null   object \n",
      " 17  Acctual Delivering Date   2715 non-null   object \n",
      " 18  COD Collection Date       2725 non-null   object \n",
      " 19  Company Settlement Date   2785 non-null   object \n",
      "dtypes: float64(3), int64(1), object(16)\n",
      "memory usage: 556.1+ KB\n"
     ]
    }
   ],
   "source": [
    "df.info()"
   ]
  },
  {
   "cell_type": "markdown",
   "id": "17bb6207-30f4-44c1-8e76-534e647e2808",
   "metadata": {},
   "source": [
    "---"
   ]
  },
  {
   "cell_type": "markdown",
   "id": "7331475e-2c0a-41be-9800-068cdc05051f",
   "metadata": {},
   "source": [
    "**<span style=\"color:darkorange ;\">Handling the null</span> values and dropping unnecessary columns**"
   ]
  },
  {
   "cell_type": "code",
   "execution_count": 4,
   "id": "8f851b23-6c66-460c-8197-854b4cea58ac",
   "metadata": {
    "tags": []
   },
   "outputs": [],
   "source": [
    "df = df.drop(['Recipient Name','Returned With Fees','Store','Company Settlement Date','AssignTo Courier Date','COD Collection Date','Zones','Company','AWB','Distribution Center Date','Acctual Delivering Date','Delivering Area'], axis=1)\n",
    "\n",
    "df = df.dropna(subset=['Shipment Details'])\n",
    "\n",
    "df['Exp Delivery Fees'] = df['Exp Delivery Fees'].fillna(0)\n"
   ]
  },
  {
   "cell_type": "code",
   "execution_count": 5,
   "id": "a92cb363-560a-46a0-8e99-6dbe3723439d",
   "metadata": {
    "editable": true,
    "slideshow": {
     "slide_type": ""
    },
    "tags": []
   },
   "outputs": [
    {
     "data": {
      "text/plain": [
       "Reference number        0\n",
       "Company Payment Type    0\n",
       "Delivering City         0\n",
       "Shipment Details        0\n",
       "Cash on Delivery        0\n",
       "Exp Delivery Fees       0\n",
       "Shipment Status         0\n",
       "Creation Date           0\n",
       "dtype: int64"
      ]
     },
     "execution_count": 5,
     "metadata": {},
     "output_type": "execute_result"
    }
   ],
   "source": [
    "df.isnull().sum()"
   ]
  },
  {
   "cell_type": "markdown",
   "id": "65e75632-ff7c-42c1-8a88-faaf32ef874f",
   "metadata": {},
   "source": [
    "---"
   ]
  },
  {
   "cell_type": "markdown",
   "id": "fa9fed97-74fa-4ebf-ba73-84f447b1477d",
   "metadata": {},
   "source": [
    "**Unifying the Shipment Status values into (yes and no) yes if delivered and no if returned**"
   ]
  },
  {
   "cell_type": "code",
   "execution_count": 6,
   "id": "928d7484-d378-4ecc-a59b-7806663955e5",
   "metadata": {},
   "outputs": [
    {
     "data": {
      "text/plain": [
       "array(['Item Returned To Company Completed', 'Cod Collected',\n",
       "       'Item Returned To Company Store By Driver'], dtype=object)"
      ]
     },
     "execution_count": 6,
     "metadata": {},
     "output_type": "execute_result"
    }
   ],
   "source": [
    "df['Shipment Status'].unique()"
   ]
  },
  {
   "cell_type": "code",
   "execution_count": 7,
   "id": "dc983416-44a8-4830-b05a-ffadaf82698b",
   "metadata": {},
   "outputs": [],
   "source": [
    "status_mapping = {\n",
    "    'Cod Collected': 'yes',\n",
    "    'Delivered To Customer': 'yes',\n",
    "    'Item Returned To Company Store By Driver': 'No',\n",
    "    'Item Returned To Company Completed': 'No',\n",
    "    'Returned To Shipper': 'No',\n",
    "    'Transmit from Warehouse': 'No',\n",
    "    'Void From Customer': 'No'\n",
    "}\n",
    "df['Shipment Status'] = df['Shipment Status'].replace(status_mapping)"
   ]
  },
  {
   "cell_type": "markdown",
   "id": "cb6487f2-656d-4d03-aacb-63c300b176a8",
   "metadata": {},
   "source": [
    "---"
   ]
  },
  {
   "cell_type": "markdown",
   "id": "83242d19-780f-4477-b8e6-f82d53228cbd",
   "metadata": {},
   "source": [
    "**Unifying the Delivering City values to english only**"
   ]
  },
  {
   "cell_type": "code",
   "execution_count": 8,
   "id": "8a63a7c9-c728-43fe-ad04-91fd95bdd979",
   "metadata": {},
   "outputs": [
    {
     "data": {
      "text/plain": [
       "array(['Irbid', 'Amman', 'Madaba', 'Mafraq', 'Russeifa', 'Zarqa', 'Salt',\n",
       "       'Ajlun', 'Tafilah', 'Rumtha', 'Aqaba', 'South Aghwar', 'Jarash',\n",
       "       'North Aghwar', 'Maan', 'Karak', 'Wadi Musa', 'Petra ', 'الازرق',\n",
       "       'Shobak', 'عمان', 'اربد', 'المفرق', 'مادبا', 'الرصيفة', 'الكرك',\n",
       "       'الطفيلة', 'الزرقاء', 'عجلون', 'العقبة', 'وادي موسى', 'السلط',\n",
       "       'معان', 'الرمثا', 'جرش', 'الاغوار الشمالية', 'الشوبك',\n",
       "       'الاغوار الجنوبية', 'البتراء'], dtype=object)"
      ]
     },
     "execution_count": 8,
     "metadata": {},
     "output_type": "execute_result"
    }
   ],
   "source": [
    "df['Delivering City'].unique()"
   ]
  },
  {
   "cell_type": "code",
   "execution_count": 9,
   "id": "77410616-9601-4aa0-afee-2f92ed552721",
   "metadata": {
    "tags": []
   },
   "outputs": [],
   "source": [
    "translation_dict = {\n",
    "    \"عمان\": \"Amman\",\n",
    "    \"اربد\": \"Irbid\",\n",
    "    \"الزرقاء\": \"Zarqa\",\n",
    "    \"مادبا\": \"Madaba\",\n",
    "    \"المفرق\": \"Mafraq\",\n",
    "    \"الرصيفة\": \"Russeifa\",\n",
    "    \"السلط\": \"Salt\",\n",
    "    \"عجلون\": \"Ajlun\",\n",
    "    \"الطفيلة\": \"Tafilah\",\n",
    "    \"الرمثا\": \"Rumtha\",\n",
    "    \"العقبة\": \"Aqaba\",\n",
    "    \"الاغوار الشمالية\": \"North Aghwar\",\n",
    "    \"معان\": \"Maan\",\n",
    "    \"الكرك\": \"Karak\",\n",
    "    \"وادي موسى\": \"Wadi Musa\",\n",
    "    \"البتراء\": \"Petra \",\n",
    "    \"الشوبك\": \"Shobak\",\n",
    "    \"الاغوار الجنوبية\": \"South Aghwar\",\n",
    "    \"جرش\": \"Jarash\",\n",
    "    \"وادي رم\": \"Wadi Rum\",\n",
    "    \"الازرق\": \"Al-Azraq\"\n",
    "}\n",
    "\n",
    "df['Delivering City'] = df['Delivering City'].replace(translation_dict)\n"
   ]
  },
  {
   "cell_type": "markdown",
   "id": "749fb6e3-ff8c-4f06-aa94-5ec7d1207cf5",
   "metadata": {},
   "source": [
    "---"
   ]
  },
  {
   "cell_type": "markdown",
   "id": "84271260-7319-402d-90f2-3a40c30e8442",
   "metadata": {},
   "source": [
    "**Creating new feature named \"Perfume_Count\" from \"Shipment Details\" column that contains the number of perfumes in each order**"
   ]
  },
  {
   "cell_type": "code",
   "execution_count": 10,
   "id": "cbcf439c-78eb-4ff9-b00b-fc83143ec5de",
   "metadata": {},
   "outputs": [],
   "source": [
    "def count_perfumes(details):\n",
    "    if \"/\" in details:\n",
    "        return len(details.split(\"/\"))\n",
    "    elif \"عدد\" in details:\n",
    "        match = re.search(r\"عدد\\s*(\\d+)\", details)\n",
    "        if match:\n",
    "            return int(match.group(1))\n",
    "    return 1\n",
    "\n",
    "df[\"Perfume_Count\"] = df[\"Shipment Details\"].apply(count_perfumes)"
   ]
  },
  {
   "cell_type": "markdown",
   "id": "5a13acfd-dacb-4241-9014-3fffa6c7a0ee",
   "metadata": {},
   "source": [
    "**Due to inconsistencies in the formats within the Shipment Details column, we manually reviewed and validated the data using spreadsheets.**\n",
    "   - step 1: Convert the CSV File to Excel Format."
   ]
  },
  {
   "cell_type": "code",
   "execution_count": 11,
   "id": "8af45d9d-b2f4-490b-a6db-caa84f8a7c3e",
   "metadata": {},
   "outputs": [
    {
     "name": "stdout",
     "output_type": "stream",
     "text": [
      "The file was saved successfully: data.xlsx\n"
     ]
    }
   ],
   "source": [
    "df_copy=df\n",
    "df.to_excel('data.xlsx', index=False) \n",
    "\n",
    "print(\"The file was saved successfully: data.xlsx\")"
   ]
  },
  {
   "cell_type": "markdown",
   "id": "43e121fa-9190-4c82-bd5a-a9159808b3e0",
   "metadata": {},
   "source": [
    "  - step 2: Download the Excel File."
   ]
  },
  {
   "cell_type": "code",
   "execution_count": 12,
   "id": "d0efd5e0-1f4e-4dbb-a1a7-191bb68700a4",
   "metadata": {},
   "outputs": [
    {
     "ename": "OSError",
     "evalue": "Cannot save file into a non-existent directory: 'C:\\Users\\user\\OneDrive - Hashemite University\\Desktop\\machine'",
     "output_type": "error",
     "traceback": [
      "\u001b[1;31m---------------------------------------------------------------------------\u001b[0m",
      "\u001b[1;31mOSError\u001b[0m                                   Traceback (most recent call last)",
      "Cell \u001b[1;32mIn[12], line 1\u001b[0m\n\u001b[1;32m----> 1\u001b[0m df_copy\u001b[38;5;241m.\u001b[39mto_excel(\u001b[38;5;124mr\u001b[39m\u001b[38;5;124m\"\u001b[39m\u001b[38;5;124mC:\u001b[39m\u001b[38;5;124m\\\u001b[39m\u001b[38;5;124mUsers\u001b[39m\u001b[38;5;124m\\\u001b[39m\u001b[38;5;124muser\u001b[39m\u001b[38;5;124m\\\u001b[39m\u001b[38;5;124mOneDrive - Hashemite University\u001b[39m\u001b[38;5;124m\\\u001b[39m\u001b[38;5;124mDesktop\u001b[39m\u001b[38;5;124m\\\u001b[39m\u001b[38;5;124mmachine\u001b[39m\u001b[38;5;124m\\\u001b[39m\u001b[38;5;124mdata.xlsx\u001b[39m\u001b[38;5;124m\"\u001b[39m, index\u001b[38;5;241m=\u001b[39m\u001b[38;5;28;01mFalse\u001b[39;00m)\n\u001b[0;32m      2\u001b[0m \u001b[38;5;28mprint\u001b[39m(\u001b[38;5;124m\"\u001b[39m\u001b[38;5;124mThe file was successfully saved to the specified path!\u001b[39m\u001b[38;5;124m\"\u001b[39m)\n",
      "File \u001b[1;32mc:\\Users\\Shahed\\anaconda3\\Lib\\site-packages\\pandas\\core\\generic.py:2345\u001b[0m, in \u001b[0;36mNDFrame.to_excel\u001b[1;34m(self, excel_writer, sheet_name, na_rep, float_format, columns, header, index, index_label, startrow, startcol, engine, merge_cells, inf_rep, freeze_panes, storage_options, engine_kwargs)\u001b[0m\n\u001b[0;32m   2332\u001b[0m \u001b[38;5;28;01mfrom\u001b[39;00m \u001b[38;5;21;01mpandas\u001b[39;00m\u001b[38;5;21;01m.\u001b[39;00m\u001b[38;5;21;01mio\u001b[39;00m\u001b[38;5;21;01m.\u001b[39;00m\u001b[38;5;21;01mformats\u001b[39;00m\u001b[38;5;21;01m.\u001b[39;00m\u001b[38;5;21;01mexcel\u001b[39;00m \u001b[38;5;28;01mimport\u001b[39;00m ExcelFormatter\n\u001b[0;32m   2334\u001b[0m formatter \u001b[38;5;241m=\u001b[39m ExcelFormatter(\n\u001b[0;32m   2335\u001b[0m     df,\n\u001b[0;32m   2336\u001b[0m     na_rep\u001b[38;5;241m=\u001b[39mna_rep,\n\u001b[1;32m   (...)\u001b[0m\n\u001b[0;32m   2343\u001b[0m     inf_rep\u001b[38;5;241m=\u001b[39minf_rep,\n\u001b[0;32m   2344\u001b[0m )\n\u001b[1;32m-> 2345\u001b[0m formatter\u001b[38;5;241m.\u001b[39mwrite(\n\u001b[0;32m   2346\u001b[0m     excel_writer,\n\u001b[0;32m   2347\u001b[0m     sheet_name\u001b[38;5;241m=\u001b[39msheet_name,\n\u001b[0;32m   2348\u001b[0m     startrow\u001b[38;5;241m=\u001b[39mstartrow,\n\u001b[0;32m   2349\u001b[0m     startcol\u001b[38;5;241m=\u001b[39mstartcol,\n\u001b[0;32m   2350\u001b[0m     freeze_panes\u001b[38;5;241m=\u001b[39mfreeze_panes,\n\u001b[0;32m   2351\u001b[0m     engine\u001b[38;5;241m=\u001b[39mengine,\n\u001b[0;32m   2352\u001b[0m     storage_options\u001b[38;5;241m=\u001b[39mstorage_options,\n\u001b[0;32m   2353\u001b[0m     engine_kwargs\u001b[38;5;241m=\u001b[39mengine_kwargs,\n\u001b[0;32m   2354\u001b[0m )\n",
      "File \u001b[1;32mc:\\Users\\Shahed\\anaconda3\\Lib\\site-packages\\pandas\\io\\formats\\excel.py:946\u001b[0m, in \u001b[0;36mExcelFormatter.write\u001b[1;34m(self, writer, sheet_name, startrow, startcol, freeze_panes, engine, storage_options, engine_kwargs)\u001b[0m\n\u001b[0;32m    942\u001b[0m     need_save \u001b[38;5;241m=\u001b[39m \u001b[38;5;28;01mFalse\u001b[39;00m\n\u001b[0;32m    943\u001b[0m \u001b[38;5;28;01melse\u001b[39;00m:\n\u001b[0;32m    944\u001b[0m     \u001b[38;5;66;03m# error: Cannot instantiate abstract class 'ExcelWriter' with abstract\u001b[39;00m\n\u001b[0;32m    945\u001b[0m     \u001b[38;5;66;03m# attributes 'engine', 'save', 'supported_extensions' and 'write_cells'\u001b[39;00m\n\u001b[1;32m--> 946\u001b[0m     writer \u001b[38;5;241m=\u001b[39m ExcelWriter(  \u001b[38;5;66;03m# type: ignore[abstract]\u001b[39;00m\n\u001b[0;32m    947\u001b[0m         writer,\n\u001b[0;32m    948\u001b[0m         engine\u001b[38;5;241m=\u001b[39mengine,\n\u001b[0;32m    949\u001b[0m         storage_options\u001b[38;5;241m=\u001b[39mstorage_options,\n\u001b[0;32m    950\u001b[0m         engine_kwargs\u001b[38;5;241m=\u001b[39mengine_kwargs,\n\u001b[0;32m    951\u001b[0m     )\n\u001b[0;32m    952\u001b[0m     need_save \u001b[38;5;241m=\u001b[39m \u001b[38;5;28;01mTrue\u001b[39;00m\n\u001b[0;32m    954\u001b[0m \u001b[38;5;28;01mtry\u001b[39;00m:\n",
      "File \u001b[1;32mc:\\Users\\Shahed\\anaconda3\\Lib\\site-packages\\pandas\\io\\excel\\_openpyxl.py:61\u001b[0m, in \u001b[0;36mOpenpyxlWriter.__init__\u001b[1;34m(self, path, engine, date_format, datetime_format, mode, storage_options, if_sheet_exists, engine_kwargs, **kwargs)\u001b[0m\n\u001b[0;32m     57\u001b[0m \u001b[38;5;28;01mfrom\u001b[39;00m \u001b[38;5;21;01mopenpyxl\u001b[39;00m\u001b[38;5;21;01m.\u001b[39;00m\u001b[38;5;21;01mworkbook\u001b[39;00m \u001b[38;5;28;01mimport\u001b[39;00m Workbook\n\u001b[0;32m     59\u001b[0m engine_kwargs \u001b[38;5;241m=\u001b[39m combine_kwargs(engine_kwargs, kwargs)\n\u001b[1;32m---> 61\u001b[0m \u001b[38;5;28msuper\u001b[39m()\u001b[38;5;241m.\u001b[39m\u001b[38;5;21m__init__\u001b[39m(\n\u001b[0;32m     62\u001b[0m     path,\n\u001b[0;32m     63\u001b[0m     mode\u001b[38;5;241m=\u001b[39mmode,\n\u001b[0;32m     64\u001b[0m     storage_options\u001b[38;5;241m=\u001b[39mstorage_options,\n\u001b[0;32m     65\u001b[0m     if_sheet_exists\u001b[38;5;241m=\u001b[39mif_sheet_exists,\n\u001b[0;32m     66\u001b[0m     engine_kwargs\u001b[38;5;241m=\u001b[39mengine_kwargs,\n\u001b[0;32m     67\u001b[0m )\n\u001b[0;32m     69\u001b[0m \u001b[38;5;66;03m# ExcelWriter replaced \"a\" by \"r+\" to allow us to first read the excel file from\u001b[39;00m\n\u001b[0;32m     70\u001b[0m \u001b[38;5;66;03m# the file and later write to it\u001b[39;00m\n\u001b[0;32m     71\u001b[0m \u001b[38;5;28;01mif\u001b[39;00m \u001b[38;5;124m\"\u001b[39m\u001b[38;5;124mr+\u001b[39m\u001b[38;5;124m\"\u001b[39m \u001b[38;5;129;01min\u001b[39;00m \u001b[38;5;28mself\u001b[39m\u001b[38;5;241m.\u001b[39m_mode:  \u001b[38;5;66;03m# Load from existing workbook\u001b[39;00m\n",
      "File \u001b[1;32mc:\\Users\\Shahed\\anaconda3\\Lib\\site-packages\\pandas\\io\\excel\\_base.py:1263\u001b[0m, in \u001b[0;36mExcelWriter.__init__\u001b[1;34m(self, path, engine, date_format, datetime_format, mode, storage_options, if_sheet_exists, engine_kwargs)\u001b[0m\n\u001b[0;32m   1259\u001b[0m \u001b[38;5;28mself\u001b[39m\u001b[38;5;241m.\u001b[39m_handles \u001b[38;5;241m=\u001b[39m IOHandles(\n\u001b[0;32m   1260\u001b[0m     cast(IO[\u001b[38;5;28mbytes\u001b[39m], path), compression\u001b[38;5;241m=\u001b[39m{\u001b[38;5;124m\"\u001b[39m\u001b[38;5;124mcompression\u001b[39m\u001b[38;5;124m\"\u001b[39m: \u001b[38;5;28;01mNone\u001b[39;00m}\n\u001b[0;32m   1261\u001b[0m )\n\u001b[0;32m   1262\u001b[0m \u001b[38;5;28;01mif\u001b[39;00m \u001b[38;5;129;01mnot\u001b[39;00m \u001b[38;5;28misinstance\u001b[39m(path, ExcelWriter):\n\u001b[1;32m-> 1263\u001b[0m     \u001b[38;5;28mself\u001b[39m\u001b[38;5;241m.\u001b[39m_handles \u001b[38;5;241m=\u001b[39m get_handle(\n\u001b[0;32m   1264\u001b[0m         path, mode, storage_options\u001b[38;5;241m=\u001b[39mstorage_options, is_text\u001b[38;5;241m=\u001b[39m\u001b[38;5;28;01mFalse\u001b[39;00m\n\u001b[0;32m   1265\u001b[0m     )\n\u001b[0;32m   1266\u001b[0m \u001b[38;5;28mself\u001b[39m\u001b[38;5;241m.\u001b[39m_cur_sheet \u001b[38;5;241m=\u001b[39m \u001b[38;5;28;01mNone\u001b[39;00m\n\u001b[0;32m   1268\u001b[0m \u001b[38;5;28;01mif\u001b[39;00m date_format \u001b[38;5;129;01mis\u001b[39;00m \u001b[38;5;28;01mNone\u001b[39;00m:\n",
      "File \u001b[1;32mc:\\Users\\Shahed\\anaconda3\\Lib\\site-packages\\pandas\\io\\common.py:739\u001b[0m, in \u001b[0;36mget_handle\u001b[1;34m(path_or_buf, mode, encoding, compression, memory_map, is_text, errors, storage_options)\u001b[0m\n\u001b[0;32m    737\u001b[0m \u001b[38;5;66;03m# Only for write methods\u001b[39;00m\n\u001b[0;32m    738\u001b[0m \u001b[38;5;28;01mif\u001b[39;00m \u001b[38;5;124m\"\u001b[39m\u001b[38;5;124mr\u001b[39m\u001b[38;5;124m\"\u001b[39m \u001b[38;5;129;01mnot\u001b[39;00m \u001b[38;5;129;01min\u001b[39;00m mode \u001b[38;5;129;01mand\u001b[39;00m is_path:\n\u001b[1;32m--> 739\u001b[0m     check_parent_directory(\u001b[38;5;28mstr\u001b[39m(handle))\n\u001b[0;32m    741\u001b[0m \u001b[38;5;28;01mif\u001b[39;00m compression:\n\u001b[0;32m    742\u001b[0m     \u001b[38;5;28;01mif\u001b[39;00m compression \u001b[38;5;241m!=\u001b[39m \u001b[38;5;124m\"\u001b[39m\u001b[38;5;124mzstd\u001b[39m\u001b[38;5;124m\"\u001b[39m:\n\u001b[0;32m    743\u001b[0m         \u001b[38;5;66;03m# compression libraries do not like an explicit text-mode\u001b[39;00m\n",
      "File \u001b[1;32mc:\\Users\\Shahed\\anaconda3\\Lib\\site-packages\\pandas\\io\\common.py:604\u001b[0m, in \u001b[0;36mcheck_parent_directory\u001b[1;34m(path)\u001b[0m\n\u001b[0;32m    602\u001b[0m parent \u001b[38;5;241m=\u001b[39m Path(path)\u001b[38;5;241m.\u001b[39mparent\n\u001b[0;32m    603\u001b[0m \u001b[38;5;28;01mif\u001b[39;00m \u001b[38;5;129;01mnot\u001b[39;00m parent\u001b[38;5;241m.\u001b[39mis_dir():\n\u001b[1;32m--> 604\u001b[0m     \u001b[38;5;28;01mraise\u001b[39;00m \u001b[38;5;167;01mOSError\u001b[39;00m(\u001b[38;5;124mrf\u001b[39m\u001b[38;5;124m\"\u001b[39m\u001b[38;5;124mCannot save file into a non-existent directory: \u001b[39m\u001b[38;5;124m'\u001b[39m\u001b[38;5;132;01m{\u001b[39;00mparent\u001b[38;5;132;01m}\u001b[39;00m\u001b[38;5;124m'\u001b[39m\u001b[38;5;124m\"\u001b[39m)\n",
      "\u001b[1;31mOSError\u001b[0m: Cannot save file into a non-existent directory: 'C:\\Users\\user\\OneDrive - Hashemite University\\Desktop\\machine'"
     ]
    }
   ],
   "source": [
    "df_copy.to_excel(r\"C:\\Users\\user\\OneDrive - Hashemite University\\Desktop\\machine\\data.xlsx\", index=False)\n",
    "print(\"The file was successfully saved to the specified path!\")"
   ]
  },
  {
   "cell_type": "markdown",
   "id": "b52745af-072d-4805-87a2-141ea97d127f",
   "metadata": {},
   "source": [
    "---"
   ]
  },
  {
   "cell_type": "code",
   "execution_count": 20,
   "id": "b623a92c-9c8c-4ddf-a996-059582ca5a4a",
   "metadata": {
    "tags": []
   },
   "outputs": [],
   "source": [
    "import pandas as pd\n",
    "d_new=pd.read_csv(r\"C:\\Users\\Shahed\\Downloads\\ddata_new - Sheet1.csv\")"
   ]
  },
  {
   "cell_type": "code",
   "execution_count": 21,
   "id": "42bb1766-20ad-4111-aa30-10a76be2b68e",
   "metadata": {},
   "outputs": [
    {
     "name": "stdout",
     "output_type": "stream",
     "text": [
      "<class 'pandas.core.frame.DataFrame'>\n",
      "RangeIndex: 8310 entries, 0 to 8309\n",
      "Data columns (total 9 columns):\n",
      " #   Column                Non-Null Count  Dtype \n",
      "---  ------                --------------  ----- \n",
      " 0   Reference number      8310 non-null   object\n",
      " 1   Company Payment Type  8310 non-null   object\n",
      " 2   Delivering City       8310 non-null   object\n",
      " 3   Shipment Details      8310 non-null   object\n",
      " 4   Cash on Delivery      8310 non-null   object\n",
      " 5   Exp Delivery Fees     8310 non-null   object\n",
      " 6   Shipment Status       8310 non-null   object\n",
      " 7   Creation Date         8310 non-null   object\n",
      " 8   Perfume_Count         8310 non-null   int64 \n",
      "dtypes: int64(1), object(8)\n",
      "memory usage: 584.4+ KB\n"
     ]
    }
   ],
   "source": [
    "d_new.info()"
   ]
  },
  {
   "cell_type": "markdown",
   "id": "76aa8c87-479f-48eb-b15a-adb5268755b3",
   "metadata": {},
   "source": [
    "---"
   ]
  },
  {
   "cell_type": "markdown",
   "id": "2fca0d82-d3aa-4747-899a-2868274c6cd8",
   "metadata": {},
   "source": [
    "**Converting the data type to float and resolving issues with comma formatting.**"
   ]
  },
  {
   "cell_type": "code",
   "execution_count": 22,
   "id": "6b2dfb9c-d660-48d4-9d7b-1e5ae3300a89",
   "metadata": {},
   "outputs": [],
   "source": [
    "d_new['Cash on Delivery'] = d_new['Cash on Delivery'].astype(str).str.replace('٫', '.').str.replace(',', '').astype(float)\n",
    "d_new['Exp Delivery Fees'] = d_new['Exp Delivery Fees'].astype(str).str.replace(',', '.').str.replace('٫', '.').astype(float)"
   ]
  },
  {
   "cell_type": "markdown",
   "id": "2b0e8cec-e88a-4403-8f74-b7287ce35d94",
   "metadata": {},
   "source": [
    "**After visualizing the data, we discovered negative values in the Cash on Delivery column, indicating that the money was returned to the customer. Consequently, we need to update the corresponding values in the Shipment Status column to 'No'.**"
   ]
  },
  {
   "cell_type": "code",
   "execution_count": 24,
   "id": "ef3bfaa1-9fbd-4fce-8ab5-12ef38e81a15",
   "metadata": {},
   "outputs": [
    {
     "name": "stdout",
     "output_type": "stream",
     "text": [
      "      Cash on Delivery Shipment Status\n",
      "1209            -21.00              No\n",
      "1671            -25.00              No\n",
      "1676            -30.00              No\n",
      "3323            -25.00              No\n",
      "3668            -34.00              No\n",
      "3983            -34.00              No\n",
      "4084             -6.25              No\n",
      "4150             -0.25              No\n",
      "4255            -32.00              No\n",
      "4411            -32.00              No\n",
      "4517            -32.00              No\n",
      "4588            -32.00              No\n",
      "4663            -20.00              No\n",
      "4729            -32.00              No\n",
      "5296            -32.00              No\n",
      "5519            -19.00              No\n",
      "6350            -17.00              No\n",
      "6530            -32.00              No\n",
      "6890            -32.00              No\n",
      "7252            -10.00              No\n",
      "7263            -17.00              No\n",
      "7366            -30.00              No\n",
      "7467            -32.00              No\n",
      "7518            -34.00              No\n",
      "7783             -0.25              No\n",
      "7813            -32.00              No\n",
      "7895            -30.00              No\n",
      "8157            -32.00              No\n"
     ]
    }
   ],
   "source": [
    "def count_negatives(d_new, column_name):\n",
    "    return (d_new[column_name] < 0).sum()\n",
    "\n",
    "\n",
    "negative_count = count_negatives(d_new, 'Cash on Delivery')\n",
    "d_new.loc[d_new['Cash on Delivery'] < 0, 'Shipment Status'] = 'No'\n",
    "print(d_new[d_new['Cash on Delivery'] < 0][['Cash on Delivery', 'Shipment Status']])"
   ]
  },
  {
   "cell_type": "markdown",
   "id": "e66866e7-3751-48a1-a864-9cf89fa78db8",
   "metadata": {},
   "source": [
    "---"
   ]
  },
  {
   "cell_type": "markdown",
   "id": "3c40a838-19c2-4b03-a454-9568b9db4cca",
   "metadata": {},
   "source": [
    "**Transforming the \"Creation Date\" into a datetime object and deriving new columns for the hour and the month.**"
   ]
  },
  {
   "cell_type": "code",
   "execution_count": 25,
   "id": "9020e8b8-e91d-4d04-902f-c490489bde3f",
   "metadata": {},
   "outputs": [],
   "source": [
    "d_new['Creation Date'] = pd.to_datetime(d_new['Creation Date'], errors='coerce')\n",
    "\n",
    "d_new['Hour'] = d_new['Creation Date'].dt.hour\n",
    "d_new['Month'] = d_new['Creation Date'].dt.month"
   ]
  },
  {
   "cell_type": "markdown",
   "id": "79c1e809-7082-4644-825b-57c4729a19aa",
   "metadata": {},
   "source": [
    "---"
   ]
  },
  {
   "cell_type": "markdown",
   "id": "6c41e857-573a-4c6e-b3b1-8b68a81f1f8b",
   "metadata": {},
   "source": [
    "**Deleting the Company Payment Type column as it contained only a single unique value.**"
   ]
  },
  {
   "cell_type": "code",
   "execution_count": 26,
   "id": "6709e7da-3851-4106-af6b-b13645376bad",
   "metadata": {},
   "outputs": [
    {
     "name": "stdout",
     "output_type": "stream",
     "text": [
      "Company Payment Type\n",
      "Pay After Delivery    4870\n",
      "الدفع بعد الوصول      3440\n",
      "Name: count, dtype: int64\n"
     ]
    }
   ],
   "source": [
    "print(d_new['Company Payment Type'].value_counts())\n",
    "convert_dict = {\"الدفع بعد الوصول\": \"Pay After Delivery\",}\n",
    "d_new['Company Payment Type'] = d_new['Company Payment Type'].replace(convert_dict)\n",
    "d_new = d_new.drop(['Company Payment Type','Reference number','Shipment Details'], axis=1)"
   ]
  },
  {
   "cell_type": "markdown",
   "id": "4a157550-7f53-4daa-8ae9-e2ef0615d2b9",
   "metadata": {},
   "source": [
    "---"
   ]
  },
  {
   "cell_type": "code",
   "execution_count": 27,
   "id": "1eb7a4f5-6993-4182-82f0-f46d82d43687",
   "metadata": {},
   "outputs": [
    {
     "name": "stdout",
     "output_type": "stream",
     "text": [
      "<class 'pandas.core.frame.DataFrame'>\n",
      "RangeIndex: 8310 entries, 0 to 8309\n",
      "Data columns (total 8 columns):\n",
      " #   Column             Non-Null Count  Dtype         \n",
      "---  ------             --------------  -----         \n",
      " 0   Delivering City    8310 non-null   object        \n",
      " 1   Cash on Delivery   8310 non-null   float64       \n",
      " 2   Exp Delivery Fees  8310 non-null   float64       \n",
      " 3   Shipment Status    8310 non-null   object        \n",
      " 4   Creation Date      8310 non-null   datetime64[ns]\n",
      " 5   Perfume_Count      8310 non-null   int64         \n",
      " 6   Hour               8310 non-null   int32         \n",
      " 7   Month              8310 non-null   int32         \n",
      "dtypes: datetime64[ns](1), float64(2), int32(2), int64(1), object(2)\n",
      "memory usage: 454.6+ KB\n"
     ]
    }
   ],
   "source": [
    "d_new.info()"
   ]
  },
  {
   "cell_type": "markdown",
   "id": "eb72ed99-d672-42c5-a580-9ba5990174c5",
   "metadata": {},
   "source": [
    "## **Visualization**"
   ]
  },
  {
   "cell_type": "markdown",
   "id": "5f6bf095-260c-499a-a333-fdc8da599cbc",
   "metadata": {},
   "source": [
    "**<span style=\"color:Darkorange ;\">Resampling</span> the Data based on the target feature**"
   ]
  },
  {
   "cell_type": "code",
   "execution_count": 28,
   "id": "efc2a7bd-1bbb-497a-b730-0d284ae11049",
   "metadata": {},
   "outputs": [
    {
     "data": {
      "image/png": "[encoded data removed]",
      "text/plain": [
       "<Figure size 800x500 with 1 Axes>"
      ]
     },
     "metadata": {},
     "output_type": "display_data"
    }
   ],
   "source": [
    "import warnings\n",
    "warnings.filterwarnings(\"ignore\", category=FutureWarning)\n",
    "\n",
    "status_counts = d_new['Shipment Status'].value_counts().reset_index()\n",
    "status_counts.columns = ['Shipment Status', 'Count']\n",
    "\n",
    "plt.figure(figsize=(8, 5))\n",
    "sns.barplot(x='Shipment Status', y='Count', data=status_counts, palette='Oranges')\n",
    "plt.title('Shipment Status Frequencies')\n",
    "plt.xlabel('Shipment Status')\n",
    "plt.ylabel('Frequency')\n",
    "plt.show()"
   ]
  },
  {
   "cell_type": "code",
   "execution_count": 29,
   "id": "949babca-95ad-4d35-9f68-b6439743d37e",
   "metadata": {},
   "outputs": [
    {
     "data": {
      "image/png": "[encoded data removed]",
      "text/plain": [
       "<Figure size 640x480 with 1 Axes>"
      ]
     },
     "metadata": {},
     "output_type": "display_data"
    }
   ],
   "source": [
    "import seaborn as sns\n",
    "import matplotlib.pyplot as plt\n",
    "\n",
    "class_majority = d_new[d_new['Shipment Status'] == 'yes']\n",
    "class_minority = d_new[d_new['Shipment Status'] == 'No']\n",
    "\n",
    "class_minority_oversampled = class_minority.sample(len(class_majority), replace=True, random_state=42)\n",
    "\n",
    "d_balanced = pd.concat([class_majority, class_minority_oversampled])\n",
    "\n",
    "sns.countplot(x=d_balanced['Shipment Status'], palette='Oranges')\n",
    "plt.title('Balanced Shipment Status Distribution')\n",
    "plt.show()"
   ]
  },
  {
   "cell_type": "markdown",
   "id": "08da285f-c6db-48ca-8237-567e6cf11a80",
   "metadata": {},
   "source": [
    "---"
   ]
  },
  {
   "cell_type": "markdown",
   "id": "bc9a7be4-c056-40f7-a7db-09090f923345",
   "metadata": {},
   "source": [
    "**Visualizing the highest sales across cities using a <span style=\"color:Darkorange ;\">bar chart</span>**"
   ]
  },
  {
   "cell_type": "code",
   "execution_count": 30,
   "id": "bb5ea3a4-cc8b-49af-b421-3d9e93d6328c",
   "metadata": {
    "tags": []
   },
   "outputs": [
    {
     "data": {
      "image/png": "[encoded data removed]",
      "text/plain": [
       "<Figure size 1000x600 with 1 Axes>"
      ]
     },
     "metadata": {},
     "output_type": "display_data"
    }
   ],
   "source": [
    "import warnings\n",
    "warnings.filterwarnings(\"ignore\", category=UserWarning)\n",
    "\n",
    "city_sales = d_new.groupby('Delivering City')['Perfume_Count'].sum().reset_index()  \n",
    "city_sales = city_sales.sort_values(by='Perfume_Count', ascending=False)\n",
    "\n",
    "plt.figure(figsize=(10, 6))\n",
    "city_sales = d_new.groupby('Delivering City')['Perfume_Count'].sum().reset_index()\n",
    "sns.barplot(x='Delivering City', y='Perfume_Count', data=city_sales, palette=sns.color_palette('Oranges', n_colors=5))\n",
    "plt.title('Cities with the Highest Perfume Sales')\n",
    "plt.xlabel('Number of Perfumes Sold')\n",
    "plt.ylabel('City')\n",
    "plt.xticks(rotation=90)\n",
    "plt.show()"
   ]
  },
  {
   "cell_type": "markdown",
   "id": "cf0f0a40-cef7-49ca-b8d8-20dc4be9b9b9",
   "metadata": {},
   "source": [
    "---"
   ]
  },
  {
   "cell_type": "markdown",
   "id": "aac4cda8-dbd6-49fa-aed4-f27c17461769",
   "metadata": {},
   "source": [
    "**Visualizing the highest monthly sales using a <span style=\"color:Darkorange ;\">bar chart</span>**"
   ]
  },
  {
   "cell_type": "code",
   "execution_count": 31,
   "id": "e34255dc-dddb-4c30-92ba-549319eabd85",
   "metadata": {},
   "outputs": [
    {
     "data": {
      "image/png": "[encoded data removed]",
      "text/plain": [
       "<Figure size 1000x600 with 1 Axes>"
      ]
     },
     "metadata": {},
     "output_type": "display_data"
    }
   ],
   "source": [
    "monthly_perfume_counts = d_new.groupby('Month')['Perfume_Count'].sum().reset_index()\n",
    "\n",
    "plt.figure(figsize=(10, 6))\n",
    "sns.barplot(x='Month', y='Perfume_Count', data=monthly_perfume_counts, palette='Oranges')\n",
    "plt.title('Monthly Perfume Counts')\n",
    "plt.xlabel('Month')\n",
    "plt.ylabel('Total Perfume Count')\n",
    "plt.show()"
   ]
  },
  {
   "cell_type": "markdown",
   "id": "51e5d102-a96f-4be1-9443-5c1bd71b984c",
   "metadata": {},
   "source": [
    "---"
   ]
  },
  {
   "cell_type": "markdown",
   "id": "6bc6c073-bbbf-4c1e-a562-0cf37e285f10",
   "metadata": {},
   "source": [
    "**Visualizing daily sales for <span style=\"color:Darkorange ;\">October</span>, highlighting the highest sales within the month**"
   ]
  },
  {
   "cell_type": "code",
   "execution_count": 32,
   "id": "fb1d8eef-4e3e-42b2-8b64-f9ee8892d72c",
   "metadata": {},
   "outputs": [
    {
     "data": {
      "image/png": "[encoded data removed]",
      "text/plain": [
       "<Figure size 1000x600 with 1 Axes>"
      ]
     },
     "metadata": {},
     "output_type": "display_data"
    }
   ],
   "source": [
    "october_data = d_new[d_new['Month'] == 10].copy()\n",
    "\n",
    "october_data['Day'] = october_data['Creation Date'].dt.day\n",
    "\n",
    "daily_perfume_counts_october = october_data.groupby('Day')['Perfume_Count'].sum().reset_index()\n",
    "\n",
    "plt.figure(figsize=(10, 6))\n",
    "sns.barplot(x='Day', y='Perfume_Count', data=daily_perfume_counts_october, palette='Oranges')\n",
    "plt.title('Daily Perfume Counts for October')\n",
    "plt.xlabel('Day of October')\n",
    "plt.ylabel('Total Perfume Count')\n",
    "plt.xticks(rotation=90)  \n",
    "plt.show()"
   ]
  },
  {
   "cell_type": "markdown",
   "id": "f8c26779-ee94-40ed-aeeb-381f36b3e942",
   "metadata": {},
   "source": [
    "---"
   ]
  },
  {
   "cell_type": "markdown",
   "id": "60626861-6f2b-4b45-b939-4ebb37c9d6e1",
   "metadata": {},
   "source": [
    "**Visualizing the perfume count and its return status**"
   ]
  },
  {
   "cell_type": "code",
   "execution_count": 33,
   "id": "a7ee9c46-2feb-42eb-87a7-0a5fb6764fe4",
   "metadata": {},
   "outputs": [
    {
     "data": {
      "image/png": "[encoded data removed]",
      "text/plain": [
       "<Figure size 640x480 with 1 Axes>"
      ]
     },
     "metadata": {},
     "output_type": "display_data"
    }
   ],
   "source": [
    "sns.stripplot(x='Shipment Status', y='Perfume_Count', data=d_new, jitter=True, palette='Oranges')\n",
    "\n",
    "plt.title('Perfume Count vs Shipment Status')\n",
    "plt.xlabel('Shipment Status')\n",
    "plt.ylabel('Perfume Count')\n",
    "plt.show()\n"
   ]
  },
  {
   "cell_type": "markdown",
   "id": "66f89dc4-f333-4c78-96c3-feaaae4cac7c",
   "metadata": {},
   "source": [
    "---"
   ]
  },
  {
   "cell_type": "markdown",
   "id": "d244efc5-5aa0-4260-976e-25be72acec6b",
   "metadata": {},
   "source": [
    "**Using a <span style=\"color:Darkorange ;\">violin plot</span> to display the distribution of Cash on Delivery across different Shipment Status categories**"
   ]
  },
  {
   "cell_type": "code",
   "execution_count": 34,
   "id": "9e3c7bfc-9643-464d-a9cc-9b67b8674149",
   "metadata": {},
   "outputs": [
    {
     "data": {
      "image/png": "[encoded data removed]",
      "text/plain": [
       "<Figure size 800x600 with 1 Axes>"
      ]
     },
     "metadata": {},
     "output_type": "display_data"
    }
   ],
   "source": [
    "plt.figure(figsize=(8, 6))\n",
    "sns.violinplot(x='Shipment Status', y='Cash on Delivery', data=d_new, palette='Oranges')\n",
    "plt.title('Distribution of Cash on Delivery by Shipment Status')\n",
    "plt.xlabel('Shipment Status')\n",
    "plt.ylabel('Cash on Delivery')\n",
    "plt.show()"
   ]
  },
  {
   "cell_type": "markdown",
   "id": "1c25fd6b-1363-49cd-b713-ce3f509bd580",
   "metadata": {},
   "source": [
    "---"
   ]
  },
  {
   "cell_type": "markdown",
   "id": "6672fdbb-33b8-4580-9255-d68dcb1421cc",
   "metadata": {},
   "source": [
    "**Showing the outliers using <span style=\"color:darkorange ;\">boxplots</span>**"
   ]
  },
  {
   "cell_type": "code",
   "execution_count": 35,
   "id": "7261a59c-d3d3-4370-a29e-46919773efac",
   "metadata": {},
   "outputs": [
    {
     "data": {
      "image/png": "[encoded data removed]",
      "text/plain": [
       "<Figure size 1400x200 with 1 Axes>"
      ]
     },
     "metadata": {},
     "output_type": "display_data"
    },
    {
     "data": {
      "image/png": "[encoded data removed]",
      "text/plain": [
       "<Figure size 1400x200 with 1 Axes>"
      ]
     },
     "metadata": {},
     "output_type": "display_data"
    },
    {
     "data": {
      "image/png": "[encoded data removed]",
      "text/plain": [
       "<Figure size 1400x200 with 1 Axes>"
      ]
     },
     "metadata": {},
     "output_type": "display_data"
    },
    {
     "data": {
      "image/png": "[encoded data removed]",
      "text/plain": [
       "<Figure size 1400x200 with 1 Axes>"
      ]
     },
     "metadata": {},
     "output_type": "display_data"
    },
    {
     "data": {
      "image/png": "[encoded data removed]",
      "text/plain": [
       "<Figure size 1400x200 with 1 Axes>"
      ]
     },
     "metadata": {},
     "output_type": "display_data"
    }
   ],
   "source": [
    "col_numeric = d_new.select_dtypes(include=['float64', 'int64','int32']).columns.tolist()\n",
    "\n",
    "for column in col_numeric:\n",
    "    plt.figure(figsize=(14, 2))\n",
    "    sns.boxplot(x=d_new[column],palette='Oranges')\n",
    "    plt.title(f\"Boxplot for {column}\")\n",
    "    plt.show()"
   ]
  },
  {
   "cell_type": "markdown",
   "id": "6c2d4fe8-b051-4a11-b13e-09ad96039b91",
   "metadata": {},
   "source": [
    "---"
   ]
  },
  {
   "cell_type": "markdown",
   "id": "70a96766-d8df-47cf-b734-7033770d969f",
   "metadata": {},
   "source": [
    "**Showing the Perfume Count Distribution by Hour and Shipment Status**"
   ]
  },
  {
   "cell_type": "code",
   "execution_count": 36,
   "id": "2f0f32b9-31fb-4a02-914d-11fffcf7ec11",
   "metadata": {},
   "outputs": [
    {
     "data": {
      "image/png": "[encoded data removed]",
      "text/plain": [
       "<Figure size 1200x600 with 1 Axes>"
      ]
     },
     "metadata": {},
     "output_type": "display_data"
    }
   ],
   "source": [
    "hourly_status_counts = d_new.groupby(['Hour', 'Shipment Status'])['Perfume_Count'].sum().reset_index()\n",
    "\n",
    "pivot_data = hourly_status_counts.pivot(index='Hour', columns='Shipment Status', values='Perfume_Count').fillna(0)\n",
    "\n",
    "pivot_data.plot(kind='bar', stacked=True, figsize=(12, 6), color=['red', 'orange'])\n",
    "\n",
    "plt.title('Perfume Count Distribution by Hour and Shipment Status', fontsize=16)\n",
    "plt.xlabel('Hour (24-hour format)', fontsize=12)\n",
    "plt.ylabel('Total Perfume Count', fontsize=12)\n",
    "plt.xticks(rotation=0)\n",
    "plt.legend(title='Shipment Status', bbox_to_anchor=(1.05, 1), loc='upper left')\n",
    "plt.tight_layout()\n",
    "\n",
    "plt.show()"
   ]
  },
  {
   "cell_type": "markdown",
   "id": "6533cfe4-1b93-43c0-8ead-d65d4359f8c9",
   "metadata": {},
   "source": [
    "---"
   ]
  },
  {
   "cell_type": "markdown",
   "id": "c15d6004-28fe-4977-8d6f-e55ace7576a4",
   "metadata": {},
   "source": [
    "**Mapping the target column and generating a <span style=\"color:darkorange ;\">heatmap</span> to visualize the correlation between all features**"
   ]
  },
  {
   "cell_type": "code",
   "execution_count": 37,
   "id": "050fa408-f1eb-453c-865c-93047dd0b98c",
   "metadata": {},
   "outputs": [
    {
     "data": {
      "image/png": "[encoded data removed]",
      "text/plain": [
       "<Figure size 800x600 with 2 Axes>"
      ]
     },
     "metadata": {},
     "output_type": "display_data"
    }
   ],
   "source": [
    "import seaborn as sns\n",
    "import matplotlib.pyplot as plt\n",
    "d_new['Shipment Status'] = d_new['Shipment Status'].map({'yes': 1, 'No': 0})\n",
    " \n",
    "data_subset = d_new[['Cash on Delivery', 'Exp Delivery Fees', 'Perfume_Count', 'Hour', 'Month', 'Shipment Status']]\n",
    "\n",
    "correlation_matrix = data_subset.corr()\n",
    "\n",
    "plt.figure(figsize=(8, 6))\n",
    "sns.heatmap(correlation_matrix, annot=True, cmap='YlOrRd', fmt='.2f', linewidths=0.5)\n",
    "\n",
    "plt.title(\"Correlation Heatmap of Selected Features\")\n",
    "plt.show()\n"
   ]
  },
  {
   "cell_type": "markdown",
   "id": "0ad82976-b1b1-41c8-8d66-82965f9b709b",
   "metadata": {},
   "source": [
    "---"
   ]
  },
  {
   "cell_type": "markdown",
   "id": "c52fdefb-200a-45ab-bb4e-09cec99f01d3",
   "metadata": {},
   "source": [
    "**Encoding categorical features.**"
   ]
  },
  {
   "cell_type": "code",
   "execution_count": 38,
   "id": "f1d130b6-dc6c-42f4-bbac-14faca6149ae",
   "metadata": {},
   "outputs": [
    {
     "data": {
      "text/html": [
       "<div>\n",
       "<style scoped>\n",
       "    .dataframe tbody tr th:only-of-type {\n",
       "        vertical-align: middle;\n",
       "    }\n",
       "\n",
       "    .dataframe tbody tr th {\n",
       "        vertical-align: top;\n",
       "    }\n",
       "\n",
       "    .dataframe thead th {\n",
       "        text-align: right;\n",
       "    }\n",
       "</style>\n",
       "<table border=\"1\" class=\"dataframe\">\n",
       "  <thead>\n",
       "    <tr style=\"text-align: right;\">\n",
       "      <th></th>\n",
       "      <th>Cash on Delivery</th>\n",
       "      <th>Exp Delivery Fees</th>\n",
       "      <th>Shipment Status</th>\n",
       "      <th>Perfume_Count</th>\n",
       "      <th>Hour</th>\n",
       "      <th>Month</th>\n",
       "      <th>Delivering City_Ajlun</th>\n",
       "      <th>Delivering City_Al-Azraq</th>\n",
       "      <th>Delivering City_Amman</th>\n",
       "      <th>Delivering City_Aqaba</th>\n",
       "      <th>...</th>\n",
       "      <th>Delivering City_North Aghwar</th>\n",
       "      <th>Delivering City_Petra</th>\n",
       "      <th>Delivering City_Rumtha</th>\n",
       "      <th>Delivering City_Russeifa</th>\n",
       "      <th>Delivering City_Salt</th>\n",
       "      <th>Delivering City_Shobak</th>\n",
       "      <th>Delivering City_South Aghwar</th>\n",
       "      <th>Delivering City_Tafilah</th>\n",
       "      <th>Delivering City_Wadi Musa</th>\n",
       "      <th>Delivering City_Zarqa</th>\n",
       "    </tr>\n",
       "  </thead>\n",
       "  <tbody>\n",
       "    <tr>\n",
       "      <th>1</th>\n",
       "      <td>17.00</td>\n",
       "      <td>1.75</td>\n",
       "      <td>yes</td>\n",
       "      <td>1</td>\n",
       "      <td>4</td>\n",
       "      <td>4</td>\n",
       "      <td>False</td>\n",
       "      <td>False</td>\n",
       "      <td>True</td>\n",
       "      <td>False</td>\n",
       "      <td>...</td>\n",
       "      <td>False</td>\n",
       "      <td>False</td>\n",
       "      <td>False</td>\n",
       "      <td>False</td>\n",
       "      <td>False</td>\n",
       "      <td>False</td>\n",
       "      <td>False</td>\n",
       "      <td>False</td>\n",
       "      <td>False</td>\n",
       "      <td>False</td>\n",
       "    </tr>\n",
       "    <tr>\n",
       "      <th>2</th>\n",
       "      <td>20.00</td>\n",
       "      <td>1.75</td>\n",
       "      <td>yes</td>\n",
       "      <td>3</td>\n",
       "      <td>4</td>\n",
       "      <td>4</td>\n",
       "      <td>False</td>\n",
       "      <td>False</td>\n",
       "      <td>True</td>\n",
       "      <td>False</td>\n",
       "      <td>...</td>\n",
       "      <td>False</td>\n",
       "      <td>False</td>\n",
       "      <td>False</td>\n",
       "      <td>False</td>\n",
       "      <td>False</td>\n",
       "      <td>False</td>\n",
       "      <td>False</td>\n",
       "      <td>False</td>\n",
       "      <td>False</td>\n",
       "      <td>False</td>\n",
       "    </tr>\n",
       "    <tr>\n",
       "      <th>3</th>\n",
       "      <td>25.00</td>\n",
       "      <td>1.75</td>\n",
       "      <td>yes</td>\n",
       "      <td>2</td>\n",
       "      <td>4</td>\n",
       "      <td>4</td>\n",
       "      <td>False</td>\n",
       "      <td>False</td>\n",
       "      <td>True</td>\n",
       "      <td>False</td>\n",
       "      <td>...</td>\n",
       "      <td>False</td>\n",
       "      <td>False</td>\n",
       "      <td>False</td>\n",
       "      <td>False</td>\n",
       "      <td>False</td>\n",
       "      <td>False</td>\n",
       "      <td>False</td>\n",
       "      <td>False</td>\n",
       "      <td>False</td>\n",
       "      <td>False</td>\n",
       "    </tr>\n",
       "    <tr>\n",
       "      <th>5</th>\n",
       "      <td>27.00</td>\n",
       "      <td>2.75</td>\n",
       "      <td>yes</td>\n",
       "      <td>2</td>\n",
       "      <td>4</td>\n",
       "      <td>4</td>\n",
       "      <td>False</td>\n",
       "      <td>False</td>\n",
       "      <td>False</td>\n",
       "      <td>False</td>\n",
       "      <td>...</td>\n",
       "      <td>False</td>\n",
       "      <td>False</td>\n",
       "      <td>False</td>\n",
       "      <td>False</td>\n",
       "      <td>False</td>\n",
       "      <td>False</td>\n",
       "      <td>False</td>\n",
       "      <td>False</td>\n",
       "      <td>False</td>\n",
       "      <td>False</td>\n",
       "    </tr>\n",
       "    <tr>\n",
       "      <th>6</th>\n",
       "      <td>17.00</td>\n",
       "      <td>2.75</td>\n",
       "      <td>yes</td>\n",
       "      <td>1</td>\n",
       "      <td>4</td>\n",
       "      <td>4</td>\n",
       "      <td>False</td>\n",
       "      <td>False</td>\n",
       "      <td>False</td>\n",
       "      <td>False</td>\n",
       "      <td>...</td>\n",
       "      <td>False</td>\n",
       "      <td>False</td>\n",
       "      <td>False</td>\n",
       "      <td>False</td>\n",
       "      <td>False</td>\n",
       "      <td>False</td>\n",
       "      <td>False</td>\n",
       "      <td>False</td>\n",
       "      <td>False</td>\n",
       "      <td>False</td>\n",
       "    </tr>\n",
       "    <tr>\n",
       "      <th>...</th>\n",
       "      <td>...</td>\n",
       "      <td>...</td>\n",
       "      <td>...</td>\n",
       "      <td>...</td>\n",
       "      <td>...</td>\n",
       "      <td>...</td>\n",
       "      <td>...</td>\n",
       "      <td>...</td>\n",
       "      <td>...</td>\n",
       "      <td>...</td>\n",
       "      <td>...</td>\n",
       "      <td>...</td>\n",
       "      <td>...</td>\n",
       "      <td>...</td>\n",
       "      <td>...</td>\n",
       "      <td>...</td>\n",
       "      <td>...</td>\n",
       "      <td>...</td>\n",
       "      <td>...</td>\n",
       "      <td>...</td>\n",
       "      <td>...</td>\n",
       "    </tr>\n",
       "    <tr>\n",
       "      <th>114</th>\n",
       "      <td>17.00</td>\n",
       "      <td>1.50</td>\n",
       "      <td>No</td>\n",
       "      <td>1</td>\n",
       "      <td>3</td>\n",
       "      <td>4</td>\n",
       "      <td>False</td>\n",
       "      <td>False</td>\n",
       "      <td>True</td>\n",
       "      <td>False</td>\n",
       "      <td>...</td>\n",
       "      <td>False</td>\n",
       "      <td>False</td>\n",
       "      <td>False</td>\n",
       "      <td>False</td>\n",
       "      <td>False</td>\n",
       "      <td>False</td>\n",
       "      <td>False</td>\n",
       "      <td>False</td>\n",
       "      <td>False</td>\n",
       "      <td>False</td>\n",
       "    </tr>\n",
       "    <tr>\n",
       "      <th>4889</th>\n",
       "      <td>0.00</td>\n",
       "      <td>1.75</td>\n",
       "      <td>No</td>\n",
       "      <td>4</td>\n",
       "      <td>17</td>\n",
       "      <td>9</td>\n",
       "      <td>False</td>\n",
       "      <td>False</td>\n",
       "      <td>False</td>\n",
       "      <td>False</td>\n",
       "      <td>...</td>\n",
       "      <td>False</td>\n",
       "      <td>False</td>\n",
       "      <td>True</td>\n",
       "      <td>False</td>\n",
       "      <td>False</td>\n",
       "      <td>False</td>\n",
       "      <td>False</td>\n",
       "      <td>False</td>\n",
       "      <td>False</td>\n",
       "      <td>False</td>\n",
       "    </tr>\n",
       "    <tr>\n",
       "      <th>8194</th>\n",
       "      <td>0.00</td>\n",
       "      <td>1.75</td>\n",
       "      <td>No</td>\n",
       "      <td>4</td>\n",
       "      <td>16</td>\n",
       "      <td>11</td>\n",
       "      <td>False</td>\n",
       "      <td>False</td>\n",
       "      <td>False</td>\n",
       "      <td>False</td>\n",
       "      <td>...</td>\n",
       "      <td>False</td>\n",
       "      <td>False</td>\n",
       "      <td>False</td>\n",
       "      <td>False</td>\n",
       "      <td>False</td>\n",
       "      <td>False</td>\n",
       "      <td>False</td>\n",
       "      <td>False</td>\n",
       "      <td>False</td>\n",
       "      <td>False</td>\n",
       "    </tr>\n",
       "    <tr>\n",
       "      <th>4277</th>\n",
       "      <td>34.00</td>\n",
       "      <td>1.50</td>\n",
       "      <td>No</td>\n",
       "      <td>4</td>\n",
       "      <td>23</td>\n",
       "      <td>9</td>\n",
       "      <td>False</td>\n",
       "      <td>False</td>\n",
       "      <td>True</td>\n",
       "      <td>False</td>\n",
       "      <td>...</td>\n",
       "      <td>False</td>\n",
       "      <td>False</td>\n",
       "      <td>False</td>\n",
       "      <td>False</td>\n",
       "      <td>False</td>\n",
       "      <td>False</td>\n",
       "      <td>False</td>\n",
       "      <td>False</td>\n",
       "      <td>False</td>\n",
       "      <td>False</td>\n",
       "    </tr>\n",
       "    <tr>\n",
       "      <th>4769</th>\n",
       "      <td>35.75</td>\n",
       "      <td>1.75</td>\n",
       "      <td>No</td>\n",
       "      <td>4</td>\n",
       "      <td>15</td>\n",
       "      <td>9</td>\n",
       "      <td>False</td>\n",
       "      <td>False</td>\n",
       "      <td>False</td>\n",
       "      <td>False</td>\n",
       "      <td>...</td>\n",
       "      <td>False</td>\n",
       "      <td>False</td>\n",
       "      <td>False</td>\n",
       "      <td>False</td>\n",
       "      <td>False</td>\n",
       "      <td>False</td>\n",
       "      <td>False</td>\n",
       "      <td>False</td>\n",
       "      <td>False</td>\n",
       "      <td>True</td>\n",
       "    </tr>\n",
       "  </tbody>\n",
       "</table>\n",
       "<p>12840 rows × 26 columns</p>\n",
       "</div>"
      ],
      "text/plain": [
       "      Cash on Delivery  Exp Delivery Fees Shipment Status  Perfume_Count  \\\n",
       "1                17.00               1.75             yes              1   \n",
       "2                20.00               1.75             yes              3   \n",
       "3                25.00               1.75             yes              2   \n",
       "5                27.00               2.75             yes              2   \n",
       "6                17.00               2.75             yes              1   \n",
       "...                ...                ...             ...            ...   \n",
       "114              17.00               1.50              No              1   \n",
       "4889              0.00               1.75              No              4   \n",
       "8194              0.00               1.75              No              4   \n",
       "4277             34.00               1.50              No              4   \n",
       "4769             35.75               1.75              No              4   \n",
       "\n",
       "      Hour  Month  Delivering City_Ajlun  Delivering City_Al-Azraq  \\\n",
       "1        4      4                  False                     False   \n",
       "2        4      4                  False                     False   \n",
       "3        4      4                  False                     False   \n",
       "5        4      4                  False                     False   \n",
       "6        4      4                  False                     False   \n",
       "...    ...    ...                    ...                       ...   \n",
       "114      3      4                  False                     False   \n",
       "4889    17      9                  False                     False   \n",
       "8194    16     11                  False                     False   \n",
       "4277    23      9                  False                     False   \n",
       "4769    15      9                  False                     False   \n",
       "\n",
       "      Delivering City_Amman  Delivering City_Aqaba  ...  \\\n",
       "1                      True                  False  ...   \n",
       "2                      True                  False  ...   \n",
       "3                      True                  False  ...   \n",
       "5                     False                  False  ...   \n",
       "6                     False                  False  ...   \n",
       "...                     ...                    ...  ...   \n",
       "114                    True                  False  ...   \n",
       "4889                  False                  False  ...   \n",
       "8194                  False                  False  ...   \n",
       "4277                   True                  False  ...   \n",
       "4769                  False                  False  ...   \n",
       "\n",
       "      Delivering City_North Aghwar  Delivering City_Petra   \\\n",
       "1                            False                   False   \n",
       "2                            False                   False   \n",
       "3                            False                   False   \n",
       "5                            False                   False   \n",
       "6                            False                   False   \n",
       "...                            ...                     ...   \n",
       "114                          False                   False   \n",
       "4889                         False                   False   \n",
       "8194                         False                   False   \n",
       "4277                         False                   False   \n",
       "4769                         False                   False   \n",
       "\n",
       "      Delivering City_Rumtha  Delivering City_Russeifa  Delivering City_Salt  \\\n",
       "1                      False                     False                 False   \n",
       "2                      False                     False                 False   \n",
       "3                      False                     False                 False   \n",
       "5                      False                     False                 False   \n",
       "6                      False                     False                 False   \n",
       "...                      ...                       ...                   ...   \n",
       "114                    False                     False                 False   \n",
       "4889                    True                     False                 False   \n",
       "8194                   False                     False                 False   \n",
       "4277                   False                     False                 False   \n",
       "4769                   False                     False                 False   \n",
       "\n",
       "      Delivering City_Shobak  Delivering City_South Aghwar  \\\n",
       "1                      False                         False   \n",
       "2                      False                         False   \n",
       "3                      False                         False   \n",
       "5                      False                         False   \n",
       "6                      False                         False   \n",
       "...                      ...                           ...   \n",
       "114                    False                         False   \n",
       "4889                   False                         False   \n",
       "8194                   False                         False   \n",
       "4277                   False                         False   \n",
       "4769                   False                         False   \n",
       "\n",
       "      Delivering City_Tafilah  Delivering City_Wadi Musa  \\\n",
       "1                       False                      False   \n",
       "2                       False                      False   \n",
       "3                       False                      False   \n",
       "5                       False                      False   \n",
       "6                       False                      False   \n",
       "...                       ...                        ...   \n",
       "114                     False                      False   \n",
       "4889                    False                      False   \n",
       "8194                    False                      False   \n",
       "4277                    False                      False   \n",
       "4769                    False                      False   \n",
       "\n",
       "      Delivering City_Zarqa  \n",
       "1                     False  \n",
       "2                     False  \n",
       "3                     False  \n",
       "5                     False  \n",
       "6                     False  \n",
       "...                     ...  \n",
       "114                   False  \n",
       "4889                  False  \n",
       "8194                  False  \n",
       "4277                  False  \n",
       "4769                   True  \n",
       "\n",
       "[12840 rows x 26 columns]"
      ]
     },
     "execution_count": 38,
     "metadata": {},
     "output_type": "execute_result"
    }
   ],
   "source": [
    "d_balanced = d_balanced.drop(['Creation Date'], axis=1)\n",
    "d_balanced = pd.get_dummies(d_balanced, columns=['Delivering City'])\n",
    "d_balanced"
   ]
  },
  {
   "cell_type": "code",
   "execution_count": 39,
   "id": "64a06310-25eb-4d70-8224-533fb54ea4e9",
   "metadata": {},
   "outputs": [
    {
     "data": {
      "text/html": [
       "<div>\n",
       "<style scoped>\n",
       "    .dataframe tbody tr th:only-of-type {\n",
       "        vertical-align: middle;\n",
       "    }\n",
       "\n",
       "    .dataframe tbody tr th {\n",
       "        vertical-align: top;\n",
       "    }\n",
       "\n",
       "    .dataframe thead th {\n",
       "        text-align: right;\n",
       "    }\n",
       "</style>\n",
       "<table border=\"1\" class=\"dataframe\">\n",
       "  <thead>\n",
       "    <tr style=\"text-align: right;\">\n",
       "      <th></th>\n",
       "      <th>Cash on Delivery</th>\n",
       "      <th>Exp Delivery Fees</th>\n",
       "      <th>Shipment Status</th>\n",
       "      <th>Perfume_Count</th>\n",
       "      <th>Hour</th>\n",
       "      <th>Month</th>\n",
       "      <th>Delivering City_Ajlun</th>\n",
       "      <th>Delivering City_Al-Azraq</th>\n",
       "      <th>Delivering City_Amman</th>\n",
       "      <th>Delivering City_Aqaba</th>\n",
       "      <th>...</th>\n",
       "      <th>Delivering City_North Aghwar</th>\n",
       "      <th>Delivering City_Petra</th>\n",
       "      <th>Delivering City_Rumtha</th>\n",
       "      <th>Delivering City_Russeifa</th>\n",
       "      <th>Delivering City_Salt</th>\n",
       "      <th>Delivering City_Shobak</th>\n",
       "      <th>Delivering City_South Aghwar</th>\n",
       "      <th>Delivering City_Tafilah</th>\n",
       "      <th>Delivering City_Wadi Musa</th>\n",
       "      <th>Delivering City_Zarqa</th>\n",
       "    </tr>\n",
       "  </thead>\n",
       "  <tbody>\n",
       "    <tr>\n",
       "      <th>0</th>\n",
       "      <td>40.0</td>\n",
       "      <td>1.75</td>\n",
       "      <td>0</td>\n",
       "      <td>3</td>\n",
       "      <td>4</td>\n",
       "      <td>4</td>\n",
       "      <td>False</td>\n",
       "      <td>False</td>\n",
       "      <td>False</td>\n",
       "      <td>False</td>\n",
       "      <td>...</td>\n",
       "      <td>False</td>\n",
       "      <td>False</td>\n",
       "      <td>False</td>\n",
       "      <td>False</td>\n",
       "      <td>False</td>\n",
       "      <td>False</td>\n",
       "      <td>False</td>\n",
       "      <td>False</td>\n",
       "      <td>False</td>\n",
       "      <td>False</td>\n",
       "    </tr>\n",
       "    <tr>\n",
       "      <th>1</th>\n",
       "      <td>17.0</td>\n",
       "      <td>1.75</td>\n",
       "      <td>1</td>\n",
       "      <td>1</td>\n",
       "      <td>4</td>\n",
       "      <td>4</td>\n",
       "      <td>False</td>\n",
       "      <td>False</td>\n",
       "      <td>True</td>\n",
       "      <td>False</td>\n",
       "      <td>...</td>\n",
       "      <td>False</td>\n",
       "      <td>False</td>\n",
       "      <td>False</td>\n",
       "      <td>False</td>\n",
       "      <td>False</td>\n",
       "      <td>False</td>\n",
       "      <td>False</td>\n",
       "      <td>False</td>\n",
       "      <td>False</td>\n",
       "      <td>False</td>\n",
       "    </tr>\n",
       "    <tr>\n",
       "      <th>2</th>\n",
       "      <td>20.0</td>\n",
       "      <td>1.75</td>\n",
       "      <td>1</td>\n",
       "      <td>3</td>\n",
       "      <td>4</td>\n",
       "      <td>4</td>\n",
       "      <td>False</td>\n",
       "      <td>False</td>\n",
       "      <td>True</td>\n",
       "      <td>False</td>\n",
       "      <td>...</td>\n",
       "      <td>False</td>\n",
       "      <td>False</td>\n",
       "      <td>False</td>\n",
       "      <td>False</td>\n",
       "      <td>False</td>\n",
       "      <td>False</td>\n",
       "      <td>False</td>\n",
       "      <td>False</td>\n",
       "      <td>False</td>\n",
       "      <td>False</td>\n",
       "    </tr>\n",
       "    <tr>\n",
       "      <th>3</th>\n",
       "      <td>25.0</td>\n",
       "      <td>1.75</td>\n",
       "      <td>1</td>\n",
       "      <td>2</td>\n",
       "      <td>4</td>\n",
       "      <td>4</td>\n",
       "      <td>False</td>\n",
       "      <td>False</td>\n",
       "      <td>True</td>\n",
       "      <td>False</td>\n",
       "      <td>...</td>\n",
       "      <td>False</td>\n",
       "      <td>False</td>\n",
       "      <td>False</td>\n",
       "      <td>False</td>\n",
       "      <td>False</td>\n",
       "      <td>False</td>\n",
       "      <td>False</td>\n",
       "      <td>False</td>\n",
       "      <td>False</td>\n",
       "      <td>False</td>\n",
       "    </tr>\n",
       "    <tr>\n",
       "      <th>4</th>\n",
       "      <td>60.0</td>\n",
       "      <td>1.50</td>\n",
       "      <td>0</td>\n",
       "      <td>5</td>\n",
       "      <td>4</td>\n",
       "      <td>4</td>\n",
       "      <td>False</td>\n",
       "      <td>False</td>\n",
       "      <td>True</td>\n",
       "      <td>False</td>\n",
       "      <td>...</td>\n",
       "      <td>False</td>\n",
       "      <td>False</td>\n",
       "      <td>False</td>\n",
       "      <td>False</td>\n",
       "      <td>False</td>\n",
       "      <td>False</td>\n",
       "      <td>False</td>\n",
       "      <td>False</td>\n",
       "      <td>False</td>\n",
       "      <td>False</td>\n",
       "    </tr>\n",
       "    <tr>\n",
       "      <th>...</th>\n",
       "      <td>...</td>\n",
       "      <td>...</td>\n",
       "      <td>...</td>\n",
       "      <td>...</td>\n",
       "      <td>...</td>\n",
       "      <td>...</td>\n",
       "      <td>...</td>\n",
       "      <td>...</td>\n",
       "      <td>...</td>\n",
       "      <td>...</td>\n",
       "      <td>...</td>\n",
       "      <td>...</td>\n",
       "      <td>...</td>\n",
       "      <td>...</td>\n",
       "      <td>...</td>\n",
       "      <td>...</td>\n",
       "      <td>...</td>\n",
       "      <td>...</td>\n",
       "      <td>...</td>\n",
       "      <td>...</td>\n",
       "      <td>...</td>\n",
       "    </tr>\n",
       "    <tr>\n",
       "      <th>8305</th>\n",
       "      <td>0.0</td>\n",
       "      <td>1.50</td>\n",
       "      <td>0</td>\n",
       "      <td>1</td>\n",
       "      <td>15</td>\n",
       "      <td>11</td>\n",
       "      <td>False</td>\n",
       "      <td>False</td>\n",
       "      <td>True</td>\n",
       "      <td>False</td>\n",
       "      <td>...</td>\n",
       "      <td>False</td>\n",
       "      <td>False</td>\n",
       "      <td>False</td>\n",
       "      <td>False</td>\n",
       "      <td>False</td>\n",
       "      <td>False</td>\n",
       "      <td>False</td>\n",
       "      <td>False</td>\n",
       "      <td>False</td>\n",
       "      <td>False</td>\n",
       "    </tr>\n",
       "    <tr>\n",
       "      <th>8306</th>\n",
       "      <td>0.0</td>\n",
       "      <td>1.50</td>\n",
       "      <td>0</td>\n",
       "      <td>2</td>\n",
       "      <td>17</td>\n",
       "      <td>11</td>\n",
       "      <td>False</td>\n",
       "      <td>False</td>\n",
       "      <td>True</td>\n",
       "      <td>False</td>\n",
       "      <td>...</td>\n",
       "      <td>False</td>\n",
       "      <td>False</td>\n",
       "      <td>False</td>\n",
       "      <td>False</td>\n",
       "      <td>False</td>\n",
       "      <td>False</td>\n",
       "      <td>False</td>\n",
       "      <td>False</td>\n",
       "      <td>False</td>\n",
       "      <td>False</td>\n",
       "    </tr>\n",
       "    <tr>\n",
       "      <th>8307</th>\n",
       "      <td>0.0</td>\n",
       "      <td>1.50</td>\n",
       "      <td>0</td>\n",
       "      <td>2</td>\n",
       "      <td>17</td>\n",
       "      <td>11</td>\n",
       "      <td>False</td>\n",
       "      <td>False</td>\n",
       "      <td>True</td>\n",
       "      <td>False</td>\n",
       "      <td>...</td>\n",
       "      <td>False</td>\n",
       "      <td>False</td>\n",
       "      <td>False</td>\n",
       "      <td>False</td>\n",
       "      <td>False</td>\n",
       "      <td>False</td>\n",
       "      <td>False</td>\n",
       "      <td>False</td>\n",
       "      <td>False</td>\n",
       "      <td>False</td>\n",
       "    </tr>\n",
       "    <tr>\n",
       "      <th>8308</th>\n",
       "      <td>0.0</td>\n",
       "      <td>1.50</td>\n",
       "      <td>0</td>\n",
       "      <td>1</td>\n",
       "      <td>19</td>\n",
       "      <td>11</td>\n",
       "      <td>False</td>\n",
       "      <td>False</td>\n",
       "      <td>True</td>\n",
       "      <td>False</td>\n",
       "      <td>...</td>\n",
       "      <td>False</td>\n",
       "      <td>False</td>\n",
       "      <td>False</td>\n",
       "      <td>False</td>\n",
       "      <td>False</td>\n",
       "      <td>False</td>\n",
       "      <td>False</td>\n",
       "      <td>False</td>\n",
       "      <td>False</td>\n",
       "      <td>False</td>\n",
       "    </tr>\n",
       "    <tr>\n",
       "      <th>8309</th>\n",
       "      <td>0.0</td>\n",
       "      <td>1.75</td>\n",
       "      <td>0</td>\n",
       "      <td>1</td>\n",
       "      <td>20</td>\n",
       "      <td>11</td>\n",
       "      <td>False</td>\n",
       "      <td>False</td>\n",
       "      <td>False</td>\n",
       "      <td>False</td>\n",
       "      <td>...</td>\n",
       "      <td>False</td>\n",
       "      <td>False</td>\n",
       "      <td>False</td>\n",
       "      <td>False</td>\n",
       "      <td>False</td>\n",
       "      <td>False</td>\n",
       "      <td>False</td>\n",
       "      <td>False</td>\n",
       "      <td>False</td>\n",
       "      <td>False</td>\n",
       "    </tr>\n",
       "  </tbody>\n",
       "</table>\n",
       "<p>8310 rows × 26 columns</p>\n",
       "</div>"
      ],
      "text/plain": [
       "      Cash on Delivery  Exp Delivery Fees  Shipment Status  Perfume_Count  \\\n",
       "0                 40.0               1.75                0              3   \n",
       "1                 17.0               1.75                1              1   \n",
       "2                 20.0               1.75                1              3   \n",
       "3                 25.0               1.75                1              2   \n",
       "4                 60.0               1.50                0              5   \n",
       "...                ...                ...              ...            ...   \n",
       "8305               0.0               1.50                0              1   \n",
       "8306               0.0               1.50                0              2   \n",
       "8307               0.0               1.50                0              2   \n",
       "8308               0.0               1.50                0              1   \n",
       "8309               0.0               1.75                0              1   \n",
       "\n",
       "      Hour  Month  Delivering City_Ajlun  Delivering City_Al-Azraq  \\\n",
       "0        4      4                  False                     False   \n",
       "1        4      4                  False                     False   \n",
       "2        4      4                  False                     False   \n",
       "3        4      4                  False                     False   \n",
       "4        4      4                  False                     False   \n",
       "...    ...    ...                    ...                       ...   \n",
       "8305    15     11                  False                     False   \n",
       "8306    17     11                  False                     False   \n",
       "8307    17     11                  False                     False   \n",
       "8308    19     11                  False                     False   \n",
       "8309    20     11                  False                     False   \n",
       "\n",
       "      Delivering City_Amman  Delivering City_Aqaba  ...  \\\n",
       "0                     False                  False  ...   \n",
       "1                      True                  False  ...   \n",
       "2                      True                  False  ...   \n",
       "3                      True                  False  ...   \n",
       "4                      True                  False  ...   \n",
       "...                     ...                    ...  ...   \n",
       "8305                   True                  False  ...   \n",
       "8306                   True                  False  ...   \n",
       "8307                   True                  False  ...   \n",
       "8308                   True                  False  ...   \n",
       "8309                  False                  False  ...   \n",
       "\n",
       "      Delivering City_North Aghwar  Delivering City_Petra   \\\n",
       "0                            False                   False   \n",
       "1                            False                   False   \n",
       "2                            False                   False   \n",
       "3                            False                   False   \n",
       "4                            False                   False   \n",
       "...                            ...                     ...   \n",
       "8305                         False                   False   \n",
       "8306                         False                   False   \n",
       "8307                         False                   False   \n",
       "8308                         False                   False   \n",
       "8309                         False                   False   \n",
       "\n",
       "      Delivering City_Rumtha  Delivering City_Russeifa  Delivering City_Salt  \\\n",
       "0                      False                     False                 False   \n",
       "1                      False                     False                 False   \n",
       "2                      False                     False                 False   \n",
       "3                      False                     False                 False   \n",
       "4                      False                     False                 False   \n",
       "...                      ...                       ...                   ...   \n",
       "8305                   False                     False                 False   \n",
       "8306                   False                     False                 False   \n",
       "8307                   False                     False                 False   \n",
       "8308                   False                     False                 False   \n",
       "8309                   False                     False                 False   \n",
       "\n",
       "      Delivering City_Shobak  Delivering City_South Aghwar  \\\n",
       "0                      False                         False   \n",
       "1                      False                         False   \n",
       "2                      False                         False   \n",
       "3                      False                         False   \n",
       "4                      False                         False   \n",
       "...                      ...                           ...   \n",
       "8305                   False                         False   \n",
       "8306                   False                         False   \n",
       "8307                   False                         False   \n",
       "8308                   False                         False   \n",
       "8309                   False                         False   \n",
       "\n",
       "      Delivering City_Tafilah  Delivering City_Wadi Musa  \\\n",
       "0                       False                      False   \n",
       "1                       False                      False   \n",
       "2                       False                      False   \n",
       "3                       False                      False   \n",
       "4                       False                      False   \n",
       "...                       ...                        ...   \n",
       "8305                    False                      False   \n",
       "8306                    False                      False   \n",
       "8307                    False                      False   \n",
       "8308                    False                      False   \n",
       "8309                    False                      False   \n",
       "\n",
       "      Delivering City_Zarqa  \n",
       "0                     False  \n",
       "1                     False  \n",
       "2                     False  \n",
       "3                     False  \n",
       "4                     False  \n",
       "...                     ...  \n",
       "8305                  False  \n",
       "8306                  False  \n",
       "8307                  False  \n",
       "8308                  False  \n",
       "8309                  False  \n",
       "\n",
       "[8310 rows x 26 columns]"
      ]
     },
     "execution_count": 39,
     "metadata": {},
     "output_type": "execute_result"
    }
   ],
   "source": [
    "d_new = d_new.drop(['Creation Date'], axis=1)\n",
    "d_new = pd.get_dummies(d_new, columns=['Delivering City'])\n",
    "d_new"
   ]
  },
  {
   "cell_type": "markdown",
   "id": "74fce5bd-1362-4a37-80c6-88f9746d0e16",
   "metadata": {},
   "source": [
    "---"
   ]
  },
  {
   "cell_type": "markdown",
   "id": "28292682-275a-4696-b870-664bba96708e",
   "metadata": {},
   "source": [
    "#### **Tasks 2–4: Implement various classification algorithms, evaluate their performance using confusion matrices, and compare the results obtained from hold-out validation (70/30 split) with 10-fold cross-validation**"
   ]
  },
  {
   "cell_type": "markdown",
   "id": "48c3cb81-6a3a-476f-b24c-6d64826bbfcc",
   "metadata": {},
   "source": [
    "**Applying <span style=\"color:darkorange ;\">Support Vector Machine (SVM)</span> with a linear kernel using Hold out method and displaying the accuracy metrics**"
   ]
  },
  {
   "cell_type": "code",
   "execution_count": 48,
   "id": "30636f45-a8ed-4dd3-a90e-2465043d9b68",
   "metadata": {},
   "outputs": [
    {
     "name": "stdout",
     "output_type": "stream",
     "text": [
      "Hold-Out Method - Accuracy: 78.04%\n",
      "\n",
      "Classification Report (Hold-Out Method):\n",
      "              precision    recall  f1-score   support\n",
      "\n",
      "           0       0.67      0.02      0.03       368\n",
      "           1       0.78      1.00      0.88      1294\n",
      "\n",
      "    accuracy                           0.78      1662\n",
      "   macro avg       0.72      0.51      0.45      1662\n",
      "weighted avg       0.76      0.78      0.69      1662\n",
      "\n"
     ]
    }
   ],
   "source": [
    "from sklearn.model_selection import train_test_split\n",
    "from sklearn.svm import SVC\n",
    "from sklearn.metrics import accuracy_score, classification_report\n",
    "\n",
    "X = d_new.drop('Shipment Status', axis=1) \n",
    "y = d_new['Shipment Status'] \n",
    "\n",
    "X_train, X_test, y_train, y_test = train_test_split(X, y, test_size=0.2, random_state=42)\n",
    "\n",
    "svm_model = SVC(kernel='linear')  \n",
    "svm_model.fit(X_train, y_train)\n",
    "\n",
    "y_pred = svm_model.predict(X_test)\n",
    "\n",
    "accuracy = accuracy_score(y_test, y_pred)\n",
    "print(f\"Hold-Out Method - Accuracy: {accuracy * 100:.2f}%\")\n",
    "\n",
    "print(\"\\nClassification Report (Hold-Out Method):\")\n",
    "print(classification_report(y_test, y_pred))\n"
   ]
  },
  {
   "cell_type": "markdown",
   "id": "6bcada3c-a3d4-4c79-a300-d81d3a4570b5",
   "metadata": {},
   "source": [
    "**Applying <span style=\"color:darkorange ;\">Support Vector Machine (SVM)</span> with a linear kernel using 10-fold cross validation method and displaying the accuracy metrics**"
   ]
  },
  {
   "cell_type": "code",
   "execution_count": 49,
   "id": "12227838-d12a-45f8-9e13-a6c3e6c5d210",
   "metadata": {},
   "outputs": [
    {
     "name": "stdout",
     "output_type": "stream",
     "text": [
      "10-Fold Cross-Validation Accuracy Scores: [0.77858002 0.77617329 0.77376655 0.77376655 0.77376655 0.61853189\n",
      " 0.77256318 0.77256318 0.66787004 0.77256318]\n",
      "Average Accuracy: 74.80%\n"
     ]
    }
   ],
   "source": [
    "from sklearn.model_selection import cross_val_score\n",
    "\n",
    "svm_model = SVC(kernel='linear')  \n",
    "\n",
    "cv_scores = cross_val_score(svm_model, X, y, cv=10, scoring='accuracy')\n",
    "\n",
    "print(f\"10-Fold Cross-Validation Accuracy Scores: {cv_scores}\")\n",
    "print(f\"Average Accuracy: {cv_scores.mean() * 100:.2f}%\")"
   ]
  },
  {
   "cell_type": "markdown",
   "id": "2fbc6c6b-7689-42e7-8a53-304d25d6ed09",
   "metadata": {},
   "source": [
    "---"
   ]
  },
  {
   "cell_type": "markdown",
   "id": "717e7466-d2f1-48d7-b632-62575cff905e",
   "metadata": {},
   "source": [
    "**Encoding categorical variables into binary format (0 and 1) and implementing <span style=\"color:darkorange ;\">logistic regression </span>for analysis**"
   ]
  },
  {
   "cell_type": "code",
   "execution_count": null,
   "id": "3fd5edaf-4131-4409-82f7-92c8f99ef87c",
   "metadata": {},
   "outputs": [
    {
     "name": "stdout",
     "output_type": "stream",
     "text": [
      "Hold-Out Method:\n",
      "Accuracy: 0.8134777376654633\n",
      "\n",
      "Classification Report:\n",
      "              precision    recall  f1-score   support\n",
      "\n",
      "           0       0.67      0.31      0.43       554\n",
      "           1       0.83      0.96      0.89      1939\n",
      "\n",
      "    accuracy                           0.81      2493\n",
      "   macro avg       0.75      0.64      0.66      2493\n",
      "weighted avg       0.79      0.81      0.79      2493\n",
      "\n",
      "AUC: Not applicable for single-class predictions.\n",
      "\n",
      "Cross-Validation Method:\n",
      "Accuracy for each fold: [0.77858002 0.81829122 0.86642599 0.84356197 0.78941035 0.72924188\n",
      " 0.78941035 0.82551143 0.7677497  0.80625752]\n",
      "Mean Accuracy: 0.8014440433212997\n"
     ]
    }
   ],
   "source": [
    "import warnings\n",
    "from sklearn.exceptions import ConvergenceWarning\n",
    "\n",
    "warnings.filterwarnings(action='ignore', category=ConvergenceWarning)\n",
    "\n",
    "from sklearn.linear_model import LogisticRegression\n",
    "\n",
    "X_train, X_test, y_train, y_test = train_test_split(X, y, test_size=0.3,random_state=40)\n",
    "\n",
    "model = LogisticRegression()\n",
    "model.fit(X_train, y_train)\n",
    "\n",
    "y_pred = model.predict(X_test)\n",
    "\n",
    "print(\"Hold-Out Method:\")\n",
    "print(\"Accuracy:\", accuracy_score(y_test, y_pred))\n",
    "print(\"\\nClassification Report:\")\n",
    "print(classification_report(y_test, y_pred))\n",
    "\n",
    "from sklearn.metrics import roc_auc_score\n",
    "try:\n",
    "    print(\"AUC:\", roc_auc_score(y_test, model.predict_proba(X_test), multi_class='ovr'))\n",
    "except ValueError:\n",
    "    print(\"AUC: Not applicable for single-class predictions.\")\n",
    "\n",
    "#Cross-Validation\n",
    "from sklearn.model_selection import cross_val_score\n",
    "from sklearn.linear_model import LogisticRegression\n",
    "\n",
    "cv_scores = cross_val_score(model, X, y, cv=10, scoring='accuracy')\n",
    "\n",
    "print(\"\\nCross-Validation Method:\")\n",
    "print(\"Accuracy for each fold:\", cv_scores)\n",
    "print(\"Mean Accuracy:\", cv_scores.mean())"
   ]
  },
  {
   "cell_type": "markdown",
   "id": "8c2c5b55-be11-436a-ab84-bed77acef539",
   "metadata": {},
   "source": [
    "---"
   ]
  },
  {
   "cell_type": "markdown",
   "id": "ed0c1a35-3671-42d9-b052-7fecd2234ceb",
   "metadata": {},
   "source": [
    "**Implementing the <span style=\"color:darkorange ;\">Naïve Bayes classifier </span> using two approaches: the hold-out method and 10-fold cross-validation**"
   ]
  },
  {
   "cell_type": "code",
   "execution_count": null,
   "id": "bb8342bc-b499-41d5-8178-e8c80ee3bc5f",
   "metadata": {},
   "outputs": [
    {
     "name": "stdout",
     "output_type": "stream",
     "text": [
      "Hold-Out Validation Accuracy: 0.69\n",
      "Confusion Matrix:\n",
      " [[ 321  245]\n",
      " [ 530 1397]]\n",
      "classification_report:\n",
      "               precision    recall  f1-score   support\n",
      "\n",
      "           0       0.38      0.57      0.45       566\n",
      "           1       0.85      0.72      0.78      1927\n",
      "\n",
      "    accuracy                           0.69      2493\n",
      "   macro avg       0.61      0.65      0.62      2493\n",
      "weighted avg       0.74      0.69      0.71      2493\n",
      "\n",
      "Precision: 0.7432702373621095\n",
      "Recall: 0.6891295627757722\n",
      "F1-Score: 0.7079799448451566\n",
      "\n",
      "Cross-Validation Scores for each fold: [0.68592058 0.63898917 0.68231047 0.66787004 0.67509025 0.65824308\n",
      " 0.6377858  0.32370638 0.63537906 0.65583634]\n",
      "10-Fold Cross-Validation Accuracy: 0.63\n",
      "AUC: 0.68\n"
     ]
    }
   ],
   "source": [
    "\n",
    "from sklearn.model_selection import train_test_split, cross_val_score, StratifiedKFold\n",
    "from sklearn.naive_bayes import GaussianNB\n",
    "from sklearn.metrics import accuracy_score, classification_report, confusion_matrix, roc_auc_score, precision_score, recall_score, f1_score\n",
    "\n",
    "X_train, X_test, y_train, y_test = train_test_split(X, y, test_size=0.3, random_state=100)\n",
    "model = GaussianNB()\n",
    "model.fit(X_train, y_train)\n",
    "\n",
    "\n",
    "y_pred = model.predict(X_test)\n",
    "holdout_accuracy = accuracy_score(y_test, y_pred)\n",
    "print(f'Hold-Out Validation Accuracy: {holdout_accuracy:.2f}')\n",
    "\n",
    "conf_matrix = confusion_matrix(y_test, y_pred)\n",
    "print(\"Confusion Matrix:\\n\", conf_matrix)\n",
    "\n",
    "print(\"classification_report:\\n\",classification_report(y_test, y_pred))\n",
    "print(\"Precision:\", precision_score(y_test, y_pred, average='weighted'))\n",
    "print(\"Recall:\", recall_score(y_test, y_pred, average='weighted'))\n",
    "print(\"F1-Score:\", f1_score(y_test, y_pred, average='weighted'))\n",
    "\n",
    "kf = StratifiedKFold(n_splits=10, shuffle=True, random_state=42)\n",
    "cv_scores = cross_val_score(model, X, y, cv=kf, scoring='accuracy')\n",
    "print(f'\\nCross-Validation Scores for each fold: {cv_scores}')\n",
    "print(f'10-Fold Cross-Validation Accuracy: {np.mean(cv_scores):.2f}')\n",
    "\n",
    "auc_score = roc_auc_score(y_test, model.predict_proba(X_test)[:, 1])\n",
    "print(f\"AUC: {auc_score:.2f}\")"
   ]
  },
  {
   "cell_type": "markdown",
   "id": "e7b3b432-e257-4913-83c9-7d83164fb650",
   "metadata": {},
   "source": [
    "---"
   ]
  },
  {
   "cell_type": "markdown",
   "id": "04b5c5c8-d95f-4610-9f03-798aef50de1d",
   "metadata": {},
   "source": [
    "**Applying the <span style=\"color:darkorange ;\">Decision Tree classifier </span> using two evaluation methods: hold-out validation and cross-validation**"
   ]
  },
  {
   "cell_type": "code",
   "execution_count": 55,
   "id": "d4d19b5f-a6c1-413a-8379-3ecdd86579fe",
   "metadata": {},
   "outputs": [
    {
     "name": "stdout",
     "output_type": "stream",
     "text": [
      "Hold-Out Validation Accuracy: 0.8660248696349779\n",
      "Classification Report:\n",
      "              precision    recall  f1-score   support\n",
      "\n",
      "           0       0.77      0.59      0.67       567\n",
      "           1       0.89      0.95      0.92      1926\n",
      "\n",
      "    accuracy                           0.87      2493\n",
      "   macro avg       0.83      0.77      0.79      2493\n",
      "weighted avg       0.86      0.87      0.86      2493\n",
      "\n",
      "Confusion Matrix:\n",
      "[[ 336  231]\n",
      " [ 103 1823]]\n",
      "10-Fold Cross-Validation Accuracy: 0.7329723225030084\n"
     ]
    }
   ],
   "source": [
    "from sklearn.tree import DecisionTreeClassifier\n",
    "\n",
    "X_train, X_test, y_train, y_test = train_test_split(X, y, test_size=0.3, random_state=42, stratify=y)\n",
    "\n",
    "classifier_dt = DecisionTreeClassifier(random_state=42)\n",
    "classifier_dt.fit(X_train, y_train)\n",
    "\n",
    "y_pred = classifier_dt.predict(X_test)\n",
    "hold_out_accuracy = accuracy_score(y_test, y_pred)\n",
    "print(\"Hold-Out Validation Accuracy:\", hold_out_accuracy)\n",
    "\n",
    "print(\"Classification Report:\")\n",
    "print(classification_report(y_test, y_pred))\n",
    "\n",
    "print(\"Confusion Matrix:\")\n",
    "print(confusion_matrix(y_test, y_pred))\n",
    "\n",
    "cv_scores = cross_val_score(classifier_dt, X, y, cv=10)\n",
    "cross_val_accuracy = cv_scores.mean()\n",
    "print(\"10-Fold Cross-Validation Accuracy:\", cross_val_accuracy)"
   ]
  },
  {
   "cell_type": "markdown",
   "id": "895e31aa-87be-4eda-91f7-878cef21dade",
   "metadata": {},
   "source": [
    "---"
   ]
  },
  {
   "cell_type": "markdown",
   "id": "9957a401-ec61-4a3f-8ad2-971c7ce37b6e",
   "metadata": {},
   "source": [
    "**Implementing the <span style=\"color:darkorange ;\">K-Nearest Neighbors (KNN)</span> algorithm using both hold-out validation and cross-validation techniques**"
   ]
  },
  {
   "cell_type": "code",
   "execution_count": 56,
   "id": "421713fe-39de-455f-bb36-40f6017cdcbd",
   "metadata": {},
   "outputs": [
    {
     "name": "stdout",
     "output_type": "stream",
     "text": [
      "k=1, Cross-Validation Accuracy: 0.6993, Hold-Out Accuracy: 0.8255\n",
      "k=2, Cross-Validation Accuracy: 0.6475, Hold-Out Accuracy: 0.7806\n",
      "k=3, Cross-Validation Accuracy: 0.7606, Hold-Out Accuracy: 0.8604\n",
      "k=4, Cross-Validation Accuracy: 0.7256, Hold-Out Accuracy: 0.8548\n",
      "k=5, Cross-Validation Accuracy: 0.8085, Hold-Out Accuracy: 0.8708\n",
      "k=6, Cross-Validation Accuracy: 0.7850, Hold-Out Accuracy: 0.8660\n",
      "k=7, Cross-Validation Accuracy: 0.8190, Hold-Out Accuracy: 0.8740\n",
      "k=8, Cross-Validation Accuracy: 0.7983, Hold-Out Accuracy: 0.8720\n",
      "k=9, Cross-Validation Accuracy: 0.8265, Hold-Out Accuracy: 0.8761\n",
      "k=10, Cross-Validation Accuracy: 0.8156, Hold-Out Accuracy: 0.8748\n",
      "k=11, Cross-Validation Accuracy: 0.8395, Hold-Out Accuracy: 0.8769\n",
      "k=12, Cross-Validation Accuracy: 0.8359, Hold-Out Accuracy: 0.8765\n",
      "k=13, Cross-Validation Accuracy: 0.8479, Hold-Out Accuracy: 0.8761\n",
      "k=14, Cross-Validation Accuracy: 0.8329, Hold-Out Accuracy: 0.8744\n",
      "k=15, Cross-Validation Accuracy: 0.8489, Hold-Out Accuracy: 0.8781\n",
      "k=16, Cross-Validation Accuracy: 0.8446, Hold-Out Accuracy: 0.8761\n",
      "k=17, Cross-Validation Accuracy: 0.8646, Hold-Out Accuracy: 0.8765\n",
      "k=18, Cross-Validation Accuracy: 0.8427, Hold-Out Accuracy: 0.8777\n",
      "k=19, Cross-Validation Accuracy: 0.8527, Hold-Out Accuracy: 0.8769\n",
      "k=20, Cross-Validation Accuracy: 0.8632, Hold-Out Accuracy: 0.8781\n",
      "\n",
      "Best k: 17\n",
      "Best Cross-Validation Accuracy: 0.8646\n",
      "Hold-Out Accuracy for Best k: 0.8765\n"
     ]
    }
   ],
   "source": [
    "from sklearn.neighbors import KNeighborsClassifier\n",
    "best_k = 1\n",
    "best_cv_accuracy = 0  \n",
    "best_hold_out_accuracy = 0  \n",
    "\n",
    "for k in range(1, 21):\n",
    "    classifier_knn = KNeighborsClassifier(n_neighbors=k)\n",
    "    \n",
    "    cv_scores = cross_val_score(classifier_knn, X, y, cv=10)\n",
    "    cross_val_accuracy = np.mean(cv_scores)\n",
    "    \n",
    "    classifier_knn.fit(X_train, y_train)\n",
    "    y_pred = classifier_knn.predict(X_test)\n",
    "    hold_out_accuracy = accuracy_score(y_test, y_pred)\n",
    "    print(f\"k={k}, Cross-Validation Accuracy: {cross_val_accuracy:.4f}, Hold-Out Accuracy: {hold_out_accuracy:.4f}\")\n",
    "    \n",
    "    \n",
    "    if cross_val_accuracy > best_cv_accuracy:\n",
    "        best_k = k\n",
    "        best_cv_accuracy = cross_val_accuracy\n",
    "        best_hold_out_accuracy = hold_out_accuracy\n",
    "\n",
    "print(f\"\\nBest k: {best_k}\")\n",
    "print(f\"Best Cross-Validation Accuracy: {best_cv_accuracy:.4f}\")\n",
    "print(f\"Hold-Out Accuracy for Best k: {best_hold_out_accuracy:.4f}\")"
   ]
  },
  {
   "cell_type": "markdown",
   "id": "b563ae3e-64dc-452c-bc24-a9ac03daa84b",
   "metadata": {},
   "source": [
    "---"
   ]
  },
  {
   "cell_type": "markdown",
   "id": "656fbbc6-5b5e-422d-bdd7-834e52fc57ca",
   "metadata": {},
   "source": [
    "**Implementing <span style=\"color:darkorange ;\">ensemble classifiers</span> on the dataset and showing the AUC**"
   ]
  },
  {
   "cell_type": "code",
   "execution_count": 57,
   "id": "df13dccc-1e74-411f-a8f5-f21424729ab4",
   "metadata": {},
   "outputs": [
    {
     "name": "stdout",
     "output_type": "stream",
     "text": [
      "Voting Classifier Accuracy: 0.8997192137986362\n",
      "\n",
      "Classification Report for Voting Classifier:\n",
      "               precision    recall  f1-score   support\n",
      "\n",
      "           0       0.98      0.57      0.72       564\n",
      "           1       0.89      1.00      0.94      1929\n",
      "\n",
      "    accuracy                           0.90      2493\n",
      "   macro avg       0.93      0.78      0.83      2493\n",
      "weighted avg       0.91      0.90      0.89      2493\n",
      "\n",
      "AUC for Voting Classifier: 0.84\n"
     ]
    },
    {
     "data": {
      "image/png": "[encoded data removed]",
      "text/plain": [
       "<Figure size 600x400 with 1 Axes>"
      ]
     },
     "metadata": {},
     "output_type": "display_data"
    }
   ],
   "source": [
    "from sklearn.svm import SVC\n",
    "from sklearn.naive_bayes import GaussianNB\n",
    "from sklearn.linear_model import LogisticRegression\n",
    "from sklearn.ensemble import RandomForestClassifier, GradientBoostingClassifier, VotingClassifier\n",
    "from sklearn.model_selection import train_test_split\n",
    "from sklearn.metrics import accuracy_score, classification_report\n",
    "from sklearn.metrics import roc_curve, auc, roc_auc_score\n",
    "\n",
    "X_train, X_test, y_train, y_test = train_test_split(X, y, test_size=0.3, random_state=42)\n",
    "\n",
    "rf = RandomForestClassifier(n_estimators=100, random_state=42)\n",
    "gb = GradientBoostingClassifier(n_estimators=100, random_state=42)\n",
    "svm = SVC(probability=True, random_state=42) \n",
    "nb = GaussianNB()\n",
    "lr = LogisticRegression(max_iter=1000, random_state=42)\n",
    "\n",
    "voting = VotingClassifier(\n",
    "    estimators=[\n",
    "        ('rf', rf),\n",
    "        ('gb', gb),\n",
    "        ('svm', svm),\n",
    "        ('nb', nb),\n",
    "        ('lr', lr)\n",
    "    ],\n",
    "    voting='soft' )\n",
    "\n",
    "rf.fit(X_train, y_train)\n",
    "gb.fit(X_train, y_train)\n",
    "svm.fit(X_train, y_train)\n",
    "nb.fit(X_train, y_train)\n",
    "lr.fit(X_train, y_train)\n",
    "voting.fit(X_train, y_train)\n",
    "\n",
    "voting_preds = voting.predict(X_test)\n",
    "\n",
    "print(\"Voting Classifier Accuracy:\", accuracy_score(y_test, voting_preds))\n",
    "print(\"\\nClassification Report for Voting Classifier:\\n\", classification_report(y_test, voting_preds))\n",
    "\n",
    "voting_probs = voting.predict_proba(X_test)[:, 1] \n",
    "\n",
    "auc_score = roc_auc_score(y_test, voting_probs)\n",
    "print(f\"AUC for Voting Classifier: {auc_score:.2f}\")\n",
    "\n",
    "fpr, tpr, thresholds = roc_curve(y_test, voting_probs)\n",
    "\n",
    "plt.figure(figsize=(6,4))\n",
    "plt.plot(fpr, tpr, color='orange', lw=2, label=f'ROC curve (AUC = {auc_score:.2f})')\n",
    "plt.plot([0, 1], [0, 1], color='gray', linestyle='--', label='Random classifier (AUC = 0.5)') \n",
    "plt.xlabel('False Positive Rate (FPR)')\n",
    "plt.ylabel('True Positive Rate (TPR)')\n",
    "plt.title('ROC Curve (Focus on Delivered Orders)')\n",
    "plt.legend(loc='lower right')\n",
    "plt.grid(True)\n",
    "plt.show()"
   ]
  },
  {
   "cell_type": "markdown",
   "id": "12d1ef1d-88ea-4780-82bf-2f0f8381f211",
   "metadata": {},
   "source": [
    "# 🎉✨Done!🎉✨"
   ]
  }
 ],
 "metadata": {
  "kernelspec": {
   "display_name": "base",
   "language": "python",
   "name": "python3"
  },
  "language_info": {
   "codemirror_mode": {
    "name": "ipython",
    "version": 3
   },
   "file_extension": ".py",
   "mimetype": "text/x-python",
   "name": "python",
   "nbconvert_exporter": "python",
   "pygments_lexer": "ipython3",
   "version": "3.11.5"
  }
 },
 "nbformat": 4,
 "nbformat_minor": 5
}
